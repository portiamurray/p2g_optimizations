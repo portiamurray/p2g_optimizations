{
 "cells": [
  {
   "cell_type": "code",
   "execution_count": 1,
   "metadata": {
    "collapsed": true
   },
   "outputs": [],
   "source": [
    "from docplex.mp.model import Model\n",
    "from docplex.util.environment import get_environment\n",
    "from collections import namedtuple\n",
    "import pandas as pd"
   ]
  },
  {
   "cell_type": "code",
   "execution_count": 3,
   "metadata": {
    "collapsed": false
   },
   "outputs": [],
   "source": [
    "#Village\n",
    "ElecDemand=pd.read_csv(r'C:\\Users\\research\\Dropbox\\PhD\\Data\\Zernez\\Basic_GIS_shapefiles\\VillageElecDemand.csv')\n",
    "HeatDemand=pd.read_csv(r'C:\\Users\\research\\Dropbox\\PhD\\Data\\Zernez\\Basic_GIS_shapefiles\\VillageHeatDemand.csv')\n",
    "TotalRoofArea=pd.read_csv(r'C:\\Users\\research\\Dropbox\\PhD\\Data\\Zernez\\Basic_GIS_shapefiles\\VillageRoofArea.csv')\n",
    "Hydro=pd.read_excel(r'C:\\Users\\research\\Dropbox\\PhD\\Publications\\ECOS\\RenewableZernez.xlsx','hydro',parse_cols='A')\n",
    "DGSHP=pd.read_csv(r'C:\\Users\\research\\Dropbox\\PhD\\Data\\Zernez\\Basic_GIS_shapefiles\\VillageGSHP.csv')\n",
    "totalPV=pd.read_csv(r'C:\\Users\\research\\Dropbox\\PhD\\Data\\Zernez\\Basic_GIS_shapefiles\\VillagePV.csv')\n",
    "totalST=pd.read_csv(r'C:\\Users\\research\\Dropbox\\PhD\\Data\\Zernez\\Basic_GIS_shapefiles\\VillageST.csv')\n",
    "Temp=pd.read_excel(r'E:\\docplex-examples-master\\Temp.xlsx','Temp',parse_cols='A:B') #specific to zernez\n",
    "#Econstraint=pd.read_csv(r'E:\\Master\\Village\\EconstraintVillage.csv')\n",
    "#Econstraint"
   ]
  },
  {
   "cell_type": "code",
   "execution_count": 40,
   "metadata": {
    "collapsed": true
   },
   "outputs": [],
   "source": [
    "#Neighbourhood\n",
    "ElecDemand=pd.read_csv(r'C:\\Users\\research\\Dropbox\\PhD\\Data\\Zernez\\Basic_GIS_shapefiles\\NeighbourhoodElecDemand.csv')\n",
    "HeatDemand=pd.read_csv(r'C:\\Users\\research\\Dropbox\\PhD\\Data\\Zernez\\Basic_GIS_shapefiles\\NeighbourhoodHeatDemand.csv')\n",
    "TotalRoofArea=pd.read_csv(r'C:\\Users\\research\\Dropbox\\PhD\\Data\\Zernez\\Basic_GIS_shapefiles\\NeighbourhoodRoofArea.csv')\n",
    "Hydro=pd.read_excel(r'C:\\Users\\research\\Dropbox\\PhD\\Publications\\ECOS\\RenewableZernez.xlsx','hydro',parse_cols='A')\n",
    "DGSHP=pd.read_csv(r'C:\\Users\\research\\Dropbox\\PhD\\Data\\Zernez\\Basic_GIS_shapefiles\\NeighbourhoodGSHP.csv')\n",
    "totalPV=pd.read_csv(r'C:\\Users\\research\\Dropbox\\PhD\\Data\\Zernez\\Basic_GIS_shapefiles\\NeighbourhoodPV.csv')\n",
    "totalST=pd.read_csv(r'C:\\Users\\research\\Dropbox\\PhD\\Data\\Zernez\\Basic_GIS_shapefiles\\NeighbourhoodST.csv')\n",
    "Temp=pd.read_excel(r'E:\\docplex-examples-master\\Temp.xlsx','Temp',parse_cols='A:B') #specific to zernez\n",
    "#Econstraint=pd.read_csv(r'E:\\Master\\Village\\EconstraintVillage.csv')\n",
    "#Econstraint"
   ]
  },
  {
   "cell_type": "code",
   "execution_count": null,
   "metadata": {
    "collapsed": true
   },
   "outputs": [],
   "source": [
    "#District\n",
    "ElecDemand=pd.read_csv(r'C:\\Users\\research\\Dropbox\\PhD\\Data\\Zernez\\Basic_GIS_shapefiles\\DistrictElecDemand.csv')\n",
    "HeatDemand=pd.read_csv(r'C:\\Users\\research\\Dropbox\\PhD\\Data\\Zernez\\Basic_GIS_shapefiles\\DistrictHeatDemand.csv')\n",
    "TotalRoofArea=pd.read_csv(r'C:\\Users\\research\\Dropbox\\PhD\\Data\\Zernez\\Basic_GIS_shapefiles\\DistrictRoofArea.csv')\n",
    "Hydro=pd.read_excel(r'C:\\Users\\research\\Dropbox\\PhD\\Publications\\ECOS\\RenewableZernez.xlsx','hydro',parse_cols='A')\n",
    "DGSHP=pd.read_csv(r'C:\\Users\\research\\Dropbox\\PhD\\Data\\Zernez\\Basic_GIS_shapefiles\\DistrictGSHP.csv')\n",
    "totalPV=pd.read_csv(r'C:\\Users\\research\\Dropbox\\PhD\\Data\\Zernez\\Basic_GIS_shapefiles\\DistrictPV.csv')\n",
    "totalST=pd.read_csv(r'C:\\Users\\research\\Dropbox\\PhD\\Data\\Zernez\\Basic_GIS_shapefiles\\DistrictST.csv')\n",
    "Temp=pd.read_excel(r'E:\\docplex-examples-master\\Temp.xlsx','Temp',parse_cols='A:B') #specific to zernez\n",
    "#Econstraint=pd.read_csv(r'E:\\Master\\Village\\EconstraintVillage.csv')\n",
    "#Econstraint"
   ]
  },
  {
   "cell_type": "code",
   "execution_count": 43,
   "metadata": {
    "collapsed": false
   },
   "outputs": [],
   "source": [
    "def load_data(Group,ElecDemand,HeatDemand,totalPV,totalST,RoofArea,DGSHP):\n",
    "    ZerDemand=pd.DataFrame(index=range(0,8760),columns=['Elec','Heat'])     \n",
    "    ZerDemand.loc[:,'Elec']=ElecDemand.loc[:,str(Group)]\n",
    "    ZerDemand.loc[:,'Heat']=HeatDemand.loc[:,str(Group)]\n",
    "    RPotentials=pd.DataFrame(index=range(0,8760),columns=['PV','ST','Hydro'])\n",
    "    RPotentials.loc[:,'PV']=totalPV.loc[:,str(Group)]\n",
    "    RPotentials.loc[:,'ST']=totalST.loc[:,str(Group)]\n",
    "    RPotentials.loc[:,'Hydro']=Hydro.loc[:,'Hydro']\n",
    "    MaxRoof=RoofArea.loc[Group-1,'RoofArea']\n",
    "    MaxEvap=DGSHP.loc[Group-1,'GPotential']\n",
    "    Demand=ZerDemand.as_matrix()\n",
    "    RPotential=RPotentials.as_matrix()\n",
    "    return[MaxRoof,MaxEvap,Demand,RPotential]"
   ]
  },
  {
   "cell_type": "code",
   "execution_count": null,
   "metadata": {
    "collapsed": false
   },
   "outputs": [],
   "source": []
  },
  {
   "cell_type": "code",
   "execution_count": 41,
   "metadata": {
    "collapsed": false
   },
   "outputs": [],
   "source": [
    "HPTech = [\n",
    "    (\"GSHP\",8889.2,2178,0.11,2.8,15.0,5.5,0,1,1200),\n",
    "    (\"ASHP\",11013,1332.5,0.11,2.8,15.0,5.5,0,1,500)]\n",
    "BTech =[\n",
    "    (\"Gas-boiler\",12658,605.7,0.9, 25.0,3.7,0,3,1,10000),\n",
    "    (\"Oil-boiler\",17267,463.63,0.85,25.0,3.7,0,5,1,10000),\n",
    "    (\"Biomass-boiler\",27404,1024.2, 0.75, 20.0,0,0.0054,4,1,1000)]\n",
    "CHPTech = [(\"PEMFC\",53158,5748.2,0.5848,0.0004,0.15,1.9,11.5,0.025,2,0,1000,0.5852),\n",
    "    (\"PEMEC\",23729,1975.5,0.5485,-0.0006,0.15,1.0894,9,0.025,0,2,1000,0.5452)]\n",
    "RTech = [(\"PV\",1075.7,267.15,0,0.034,30,6,0),\n",
    "    (\"ST\",5608.5,1671.5,9,0,30,6,1)]\n",
    "CompTech=[(\"H2Comp\",300,0.04,15,2,0)]\n",
    "StorageTech=[(\"Battery\",2000,943.15,10,25,0.92,0.92,0.001,0.5,0.5,0,100000),\n",
    "    (\"TES\",1685,12.604,0,17,0.9,1,0.01,0.25,0.25,1,50000),\n",
    "    (\"Hydrogen\",24,17.1,0,20,1,1,0,1,1,2,100000000000)]#prices in KG!\n",
    "\n",
    "FuelProperties=[(\"Elec\",0.198,0.029),\n",
    "                (\"Heat\",0,0),\n",
    "                (\"Hydrogen\",0,0),\n",
    "                (\"NG\",0.067,0.198),\n",
    "                (\"Biomass\",0.075,0),\n",
    "                (\"Oil\",0.062,0.270),\n",
    "                (\"Solar\",0,0),\n",
    "                (\"Water\",0,0)]\n",
    "                \n",
    "#CHPtech=[    (\"MGT\", 900, 0.3, 10.0,0,0.01)]\n",
    "#0=Elec, 1=Heat, 2=Hydrogen, 3=Natural gas,4=biomass,5=oil\n",
    "discount=0.06  \n",
    "#Demand=[(1000, 500, 600, 800, 1600),\n",
    " #       (1400, 1700, 900, 200, 903)]\n",
    "Horizon=range(0,len(Demand))\n",
    "hps=range(0,len(HPTech))\n",
    "boil=range(0,len(BTech))\n",
    "renew=range(0,len(RTech))\n",
    "chp=range(0,len(CHPTech))\n",
    "stor=range(0,len(StorageTech))\n",
    "comp=range(0,len(CompTech))\n",
    "DemandCarrier=range(0,2)\n",
    "fuel=range(0,len(FuelProperties))\n",
    "techr=namedtuple(\"RTech\",[\"name\",\"fixed_cost\",\"var_cost\",\"OMF\",\"OMV\",\"Lifetime\",\"ECin\",\"ECout\"])\n",
    "techhp = namedtuple(\"HPTech\", [\"name\", \"fixed_cost\",\"var_cost\", \"eff_slope\",\"eff_int\", \"Lifetime\",\"OMF\",\"ECin\",\"ECout\",\"MaxCap\"])\n",
    "techb = namedtuple(\"BTech\", [\"name\", \"fixed_cost\",\"var_cost\", \"eff\", \"Lifetime\",\"OMF\",\"OMV\",\"ECin\",\"ECout\",\"MaxCap\"])\n",
    "techchp = namedtuple(\"CHPTech\",[\"name\",\"fixed_cost\",\"var_cost\",\"eff_slope\",\"eff_int\",\"Lower\",\"Upper\",\"Lifetime\",\"OMV\",\"ECin\",\"ECout\",\"MaxCap\",\"OutFactor\"])\n",
    "carrier= namedtuple(\"FuelProperties\",[\"name\",\"FuelCost\",\"FuelCO2\"])\n",
    "techcomp = namedtuple(\"CompTech\",[\"name\",\"unit_cost\",\"eff\",\"Lifetime\",\"ECin\",\"ECout\"])\n",
    "strge=namedtuple(\"StorageTech\",[\"name\",\"fixed_cost\",\"var_cost\",\"OMF\",\"Lifetime\",\"ChrgEff\",\"DschEff\",\"Decay\",\"MaxChrg\",\"MaxDsch\",\"Carrier\",\"MaxCap\"])\n",
    "TechHP = [techhp(*p) for p in HPTech]\n",
    "TechB = [techb(*b) for b in BTech]\n",
    "TechRenew = [techr(*r) for r in RTech]\n",
    "TechCHP = [techchp(*d) for d in CHPTech]\n",
    "FuelProp = [carrier(*f) for f in FuelProperties]\n",
    "TechStor = [strge(*s) for s in StorageTech]\n",
    "CompTech = [techcomp(*c) for  c in CompTech]\n",
    "AnnuityHP=[None] * len(HPTech)\n",
    "AnnuityB=[None] * len(BTech)\n",
    "AnnuityCHP=[None] * len(CHPTech)\n",
    "AnnuityR=[None]*len(RTech)\n",
    "AnnuityS=[None]*len(StorageTech)\n",
    "AnnuityComp=[None]*len(CompTech)\n",
    "COP=pd.DataFrame(index=Horizon,columns=['GSHP','ASHP'])\n",
    "for h in Horizon:\n",
    "    COP.loc[h,'GSHP']=Temp.loc[h,'GroundTemp']*TechHP[0].eff_slope+TechHP[0].eff_int\n",
    "    COP.loc[h,'ASHP']=Temp.loc[h,'AirTemp']*TechHP[1].eff_slope+TechHP[1].eff_int\n",
    "for p in hps:\n",
    "    AnnuityHP[p]=discount/(1-(1/((1+discount)**TechHP[p].Lifetime)))\n",
    "for b in boil:\n",
    "    AnnuityB[b]=discount/(1-(1/((1+discount)**TechB[b].Lifetime)))\n",
    "for d in chp:\n",
    "    AnnuityCHP[d]=discount/(1-(1/((1+discount)**TechCHP[d].Lifetime)))\n",
    "for r in renew:\n",
    "    AnnuityR[r]=discount/(1-(1/((1+discount)**TechRenew[r].Lifetime)))\n",
    "for s in stor:\n",
    "    AnnuityS[s]=discount/(1-(1/((1+discount)**TechStor[s].Lifetime)))\n",
    "for c in comp:\n",
    "    AnnuityComp[c]=discount/(1-(1/((1+discount)**CompTech[c].Lifetime)))\n",
    "COPHP=COP.as_matrix()"
   ]
  },
  {
   "cell_type": "code",
   "execution_count": null,
   "metadata": {
    "collapsed": false
   },
   "outputs": [],
   "source": []
  },
  {
   "cell_type": "code",
   "execution_count": 46,
   "metadata": {
    "collapsed": false
   },
   "outputs": [],
   "source": [
    "def build_model(MaxEvap,MaxRoof,Demand,RPotential,hps,boil,renew,chp,TechHP,TechB,TechRenew,TechCHP,FuelProp,TechStor,CompTech,AnnuityHP,AnnuityB,AnnuityCHP,AnnuityR,AnnuityS,AnnuityComp,COPHP):\n",
    "    mdl = Model(name='BuildingHub')\n",
    "    Horizon = range(0, len(Demand))\n",
    "    # Sizing decision variables\n",
    "    mdl.SizeHP = mdl.integer_var_list(hps,lb=0,name='SizeHP')\n",
    "    mdl.SizeBoiler = mdl.integer_var_list(boil,lb=0,name='SizeBoiler')\n",
    "    mdl.SizeCHP = mdl.integer_var_list(chp,lb=0,name='SizeCHP')\n",
    "    mdl.SizeR = mdl.integer_var_list(renew,lb=0,name='SizeR')\n",
    "    mdl.SizeStor = mdl.integer_var_list(stor,lb=0,name='SizeStor')\n",
    "    mdl.SizeComp = mdl.integer_var(lb=0,name='SizeComp')\n",
    "\n",
    "    #Installation Binaries\n",
    "    mdl.InstBoiler=mdl.binary_var_list(boil,name='InstBoiler')\n",
    "    mdl.InstCHP=mdl.binary_var_list(chp,name='InstCHP')\n",
    "    mdl.InstHP=mdl.binary_var_list(hps,name='InstHP')\n",
    "    mdl.InstR=mdl.binary_var_list(renew,name='InstR')\n",
    "    mdl.InstStor=mdl.binary_var_list(stor,name='InstStor')\n",
    "    mdl.add_constraints(mdl.SizeBoiler[b]<=TechB[b].MaxCap*mdl.InstBoiler[b] for b in boil)\n",
    "    mdl.add_constraints(mdl.SizeCHP[d]<=TechCHP[d].MaxCap*mdl.InstCHP[d] for d in chp)\n",
    "    mdl.add_constraints(mdl.SizeHP[p]<=TechHP[p].MaxCap*mdl.InstHP[p] for p in hps)\n",
    "    mdl.add_constraints(mdl.SizeStor[s]<=TechStor[s].MaxCap*mdl.InstStor[s] for s in stor)\n",
    "    mdl.add_constraint(mdl.SizeR[0]<=MaxRoof*mdl.InstR[0])\n",
    "    mdl.add_constraint(mdl.SizeR[1]<=MaxRoof*mdl.InstR[1])\n",
    "    #mdl.add_constraint(mdl.SizeR[2]==2300)\n",
    "\n",
    "    mdl.add_constraint(mdl.sum(mdl.InstBoiler[b] for b in boil)==1)\n",
    "    mdl.add_constraint(mdl.sum(mdl.InstHP[p] for p in hps)==1)\n",
    "    #Aux variable\n",
    "\n",
    "    #mdl.yBoiler=mdl.binary_var_matrix(boil,Horizon,name='yBoiler')\n",
    "    mdl.yCHP=mdl.binary_var_matrix(chp,Horizon,name='yCHP')\n",
    "    #mdl.sdCHP=mdl.binary_var_matrix(chp,Horizon,name='sdCHP')\n",
    "    #mdl.suCHP=mdl.binary_var_matrix(chp,Horizon,name='suCHP')\n",
    "    mdl.DHPump=mdl.continuous_var_list(Horizon,lb=0,name='DHPump')\n",
    "    mdl.AuxCHP=mdl.continuous_var_matrix(chp,Horizon,lb=0,name='AuxCHP')\n",
    "    #mdl.AuxCHPsd=mdl.continuous_var_matrix(chp,Horizon,lb=0,name='AuxCHPsd')\n",
    "    #mdl.AuxCHPsu=mdl.continuous_var_matrix(chp,Horizon,lb=0,name='AuxCHPsu')\n",
    "    #Aux constraints\n",
    "\n",
    "    mdl.add_constraints(mdl.AuxCHP[d,h]<=mdl.yCHP[d,h]*TechCHP[d].MaxCap for d in chp for h in Horizon)\n",
    "    mdl.add_constraints(mdl.AuxCHP[d,h]<=mdl.SizeCHP[d] for d in chp for h in Horizon)\n",
    "    mdl.add_constraints(mdl.AuxCHP[d,h]>=mdl.SizeCHP[d]-TechCHP[d].MaxCap*(1-mdl.yCHP[d,h]) for d in chp for h in Horizon)\n",
    "\n",
    "    #mdl.add_constraints(mdl.AuxCHPsd[d,h]<=mdl.sdCHP[d,h]*TechCHP[d].MaxCap for h in Horizon for d in chp)\n",
    "    #mdl.add_constraints(mdl.AuxCHPsd[d,h]<=mdl.SizeCHP[d] for h in Horizon for d in chp)\n",
    "    #mdl.add_constraints(mdl.AuxCHPsd[d,h]>=mdl.SizeCHP[d]-TechCHP[d].MaxCap*(1-mdl.sdCHP[d,h]) for h in Horizon for d in chp)\n",
    "    #mdl.add_constraints(mdl.AuxCHPsu[d,h]<=mdl.suCHP[d,h]*TechCHP[d].MaxCap for h in Horizon)\n",
    "    #mdl.add_constraints(mdl.AuxCHPsu[d,h]<=mdl.SizeCHP[d] for h in Horizon for d in chp)\n",
    "    #mdl.add_constraints(mdl.AuxCHPsu[d,h]>=mdl.SizeCHP[d]-TechCHP[d].MaxCap*(1-mdl.suCHP[d,h]) for h in Horizon)\n",
    "    #Operation decision variables\n",
    "    mdl.HPOut = mdl.continuous_var_matrix(hps,Horizon,lb=0,name='HPOut')\n",
    "    mdl.HPIn = mdl.continuous_var_matrix(hps,Horizon,lb=0,name='HPIn')\n",
    "    mdl.BoilOut=mdl.continuous_var_matrix(boil,Horizon,lb=0,name='BoilOut')\n",
    "    mdl.BoilIn=mdl.continuous_var_matrix(boil,Horizon,lb=0,name='BoilIn')\n",
    "    mdl.CompElec = mdl.continuous_var_list(Horizon,lb=0,name='CompElec')\n",
    "    mdl.CHPIn = mdl.continuous_var_matrix(chp,Horizon,lb=0,name='CHPIn')\n",
    "    mdl.CHPOut = mdl.continuous_var_matrix(chp,Horizon,lb=0,name='CHPOut')\n",
    "    mdl.CHPheat=mdl.continuous_var_list(Horizon,lb=0,name='CHPheat')\n",
    "    mdl.ROut = mdl.continuous_var_matrix(renew,Horizon,lb=0,name='ROut')\n",
    "    mdl.ElecIn = mdl.continuous_var_list(Horizon,lb=0,name='ElecIn')\n",
    "    mdl.ElecOut = mdl.continuous_var_list(Horizon,lb=0,name='ElecOut')\n",
    "    mdl.HeatDump = mdl.continuous_var_list(Horizon,lb=0,name='HeatDump')\n",
    "    mdl.NGIn = mdl.continuous_var_list(Horizon,lb=0,name='NGIn')\n",
    "    mdl.StorCharge = mdl.continuous_var_matrix(stor,Horizon,lb=0,name='StorCharge')\n",
    "    mdl.StorDischarge = mdl.continuous_var_matrix(stor,Horizon,lb=0,name='StorDischarge')\n",
    "    mdl.StorLevel = mdl.continuous_var_matrix(stor,Horizon,lb=0,name='StorLevel')\n",
    "    mdl.DI = mdl.continuous_var_list(Horizon,lb=0,name='DI')\n",
    "    mdl.add_constraints(mdl.DHPump[h]==0.04*Demand[h,1] for h in Horizon)\n",
    "    ##COST DECISION VARIABLES\n",
    "    #Capital costs\n",
    "\n",
    "    #capcost\n",
    "    mdl.HPCapCost = mdl.continuous_var_list(hps,lb=0,name='HPCapCost')\n",
    "    mdl.BoilCapCost = mdl.continuous_var_list(boil,lb=0,name='BoilCapCost')\n",
    "    mdl.CompCapCost = mdl.continuous_var(lb=0,name='CompCapCost')\n",
    "    mdl.StorCapCost = mdl.continuous_var_list(stor,lb=0,name='StorCapCost')\n",
    "    mdl.CHPCapCost = mdl.continuous_var_list(chp,lb=0,name='CHPCapCost')\n",
    "    mdl.RCapCost = mdl.continuous_var_list(renew,lb=0,name='RCapCost')\n",
    "    #O&M cost\n",
    "    mdl.OMFCostHP = mdl.continuous_var_list(hps,lb=0,name='OMFCostHP')\n",
    "    mdl.OMFCostBoil = mdl.continuous_var_list(boil,lb=0,name='OMFCostBoil')\n",
    "    mdl.OMFCostStor = mdl.continuous_var_list(stor,lb=0,name='OMFCostStor')\n",
    "    mdl.OMVCostBoil = mdl.continuous_var_list(boil,lb=0,name='OMVCostBoil')\n",
    "    mdl.OMVCostCHP = mdl.continuous_var_list(chp,lb=0,name='OMVCostCHP')\n",
    "    mdl.OMFCostR = mdl.continuous_var_list(renew,lb=0,name='OMFCostR')\n",
    "    mdl.OMVCostR = mdl.continuous_var_list(renew,lb=0,name='OMVCostR')\n",
    "    #Fuel costs\n",
    "    mdl.NGCost = mdl.continuous_var(lb=0,name='NGCost')\n",
    "    mdl.OilCost = mdl.continuous_var(lb=0,name='OilCost')\n",
    "    mdl.WoodCost = mdl.continuous_var(lb=0,name='WoodCost')\n",
    "    mdl.ElecCost = mdl.continuous_var(lb=0,name='ElecCost')\n",
    "    mdl.FITProfit = mdl.continuous_var(lb=0,name='FITProfit')\n",
    "    #Cost objective\n",
    "    mdl.TotalCost = mdl.continuous_var(lb=0,name='TotalCost')\n",
    "    #CO2 decision variables\n",
    "    mdl.ElecCO2 = mdl.continuous_var(lb=0,name='ElecCO2')\n",
    "    mdl.NGCO2 = mdl.continuous_var(lb=0,name='NGCO2')\n",
    "    mdl.OilCO2 = mdl.continuous_var(lb=0,name='OilCO2')\n",
    "    mdl.TotalCO2 = mdl.continuous_var(lb=0,name='TotalCO2')\n",
    "\n",
    "    #MaxCapConstraint\n",
    "    mdl.add_constraints(TechHP[p].MaxCap>=mdl.SizeHP[p] for p in hps)\n",
    "    mdl.add_constraints(TechCHP[d].MaxCap>=mdl.SizeCHP[d] for d in chp)\n",
    "    mdl.add_constraints(TechB[b].MaxCap>=mdl.SizeBoiler[b] for b in boil)\n",
    "    #Sizing constraint\n",
    "    mdl.add_constraints(mdl.SizeHP[p] >=mdl.HPOut[p,h] for p in hps for h in Horizon)\n",
    "    mdl.add_constraints(mdl.SizeBoiler[b]>=mdl.BoilOut[b,h] for b in boil for h in Horizon)\n",
    "    mdl.add_constraints(mdl.AuxCHP[d,h]>=mdl.CHPIn[d,h]*TechCHP[d].Upper for d in chp for h in Horizon)\n",
    "    mdl.add_constraints(mdl.AuxCHP[d,h]*TechCHP[d].Lower<=mdl.CHPIn[d,h] for d in chp for h in Horizon)\n",
    "    mdl.add_constraints(mdl.SizeStor[s]>=mdl.StorLevel[s,h] for s in stor for h in Horizon)\n",
    "    mdl.add_constraints(mdl.SizeComp>=mdl.CompElec[h] for h in Horizon)\n",
    "    #Simple eff conv\n",
    "    mdl.add_constraints(mdl.HPOut[p,h]==mdl.HPIn[p,h]*COPHP[h,p] for p in hps for h in Horizon)\n",
    "    mdl.add_constraints(mdl.ROut[0,h]==RPotential[h,0]*mdl.SizeR[0] for h in Horizon) #\n",
    "    mdl.add_constraints(mdl.ROut[1,h]==RPotential[h,1]*mdl.SizeR[1] for h in Horizon) #\n",
    "    #mdl.add_constraints(mdl.ROut[2,h]==RPotential[h,2]*mdl.SizeR[2]/2300 for h in Horizon)\n",
    "    mdl.add_constraint(mdl.sum(mdl.SizeR[r] for r in renew if TechRenew[r].ECin==6)<=MaxRoof)\n",
    "\n",
    "    #CHP eff\n",
    "    mdl.add_constraints(mdl.CHPOut[d,h]==mdl.CHPIn[d,h]*TechCHP[d].eff_slope+mdl.AuxCHP[d,h]*TechCHP[d].eff_int for d in chp for h in Horizon)\n",
    "    mdl.add_constraints(mdl.CHPOut[d,h]<=mdl.AuxCHP[d,h]*TechCHP[d].OutFactor for d in chp for h in Horizon)\n",
    "    mdl.add_constraints(mdl.CHPOut[0,h]*(1.71-1)==mdl.CHPheat[h] for h in Horizon)\n",
    "    #Boiler eff\n",
    "    mdl.add_constraints(mdl.BoilOut[b,h]==mdl.BoilIn[b,h]*TechB[b].eff for b in boil for h in Horizon)\n",
    "    #Comp elec\n",
    "    mdl.add_constraints(mdl.CompElec[h]==mdl.StorCharge[2,h]*CompTech[p].eff for p in comp for h in Horizon)\n",
    "    #HP constraint\n",
    "    mdl.add_constraints(mdl.HPOut[0,h]-mdl.HPIn[0,h]<=MaxEvap for h in Horizon)\n",
    "    #Energy balances\n",
    "    mdl.add_constraints(mdl.sum(mdl.HPOut[p,h] for p in hps)+mdl.sum(mdl.BoilOut[b,h] for b in boil)+mdl.CHPheat[h]+mdl.sum(mdl.ROut[r,h] for r in renew if TechRenew[r].ECout==1)+mdl.sum(mdl.StorDischarge[s,h] for s in stor if TechStor[s].Carrier==1)==Demand[h,1]+mdl.sum(mdl.StorCharge[s,h] for s in stor if TechStor[s].Carrier==1)+mdl.HeatDump[h] for h in Horizon)\n",
    "    mdl.add_constraints(mdl.CHPOut[0,h]+mdl.sum(mdl.ROut[r,h] for r in renew if TechRenew[r].ECout==0)+mdl.sum(mdl.StorDischarge[0,h])+mdl.ElecIn[h]==Demand[h,0]+mdl.sum(mdl.HPIn[p,h] for p in hps)+mdl.DHPump[h]+mdl.ElecOut[h]+mdl.CompElec[h]+mdl.sum(mdl.StorCharge[0,h])+mdl.sum(mdl.CHPIn[1,h]) for h in Horizon)\n",
    "    mdl.add_constraints(mdl.BoilIn[0,h]==mdl.NGIn[h]+mdl.DI[h] for h in Horizon) #assuming no MGT\n",
    "    mdl.add_constraints(mdl.CHPIn[0,h]+mdl.DI[h]==mdl.StorDischarge[2,h] for h in Horizon) #assuming no direct injection\n",
    "    mdl.add_constraints(mdl.CHPOut[1,h]==mdl.StorCharge[2,h] for h in Horizon)\n",
    "    mdl.add_constraints(mdl.DI[h]<=0.03606*mdl.BoilIn[0,h] for h in Horizon)\n",
    "    #Storage Constraints\n",
    "    for h in Horizon:\n",
    "        if h==0:\n",
    "            mdl.add_constraints(mdl.StorLevel[s,h]==mdl.StorLevel[s,8759] for s in stor)\n",
    "            mdl.add_constraints(mdl.StorDischarge[s,h]==0 for s in stor)\n",
    "            mdl.add_constraints(mdl.StorCharge[s,h]==0 for s in stor)\n",
    "        else:\n",
    "            mdl.add_constraints(mdl.StorLevel[s,h]==mdl.StorLevel[s,h-1]*(1-TechStor[s].Decay)+mdl.StorCharge[s,h]*TechStor[s].ChrgEff-mdl.StorDischarge[s,h]*(1/TechStor[s].DschEff) for s in stor)\n",
    "    mdl.add_constraints(mdl.StorCharge[s,h]<=TechStor[s].MaxChrg*mdl.SizeStor[s] for s in stor for h in Horizon)\n",
    "    mdl.add_constraints(mdl.StorDischarge[s,h]<=TechStor[s].MaxDsch*mdl.SizeStor[s] for s in stor for h in Horizon)\n",
    "    #FIT Constraints\n",
    "    mdl.add_constraints(mdl.ROut[0,h]>=mdl.ElecOut[h] for h in Horizon)\n",
    "    #mdl.add_constraints((1-y_buysell[h])*10000>=ElecIn[h] for h in Horizon)\n",
    "    ##ramp constraints\n",
    "    #for h in Horizon:\n",
    "     #   if h==0:\n",
    "            #mdl.add_constraints(mdl.sdCHP[d,h]==0 for d in chp)\n",
    "            #mdl.add_constraints(mdl.suCHP[d,h]==0 for d in chp)\n",
    "        #else:\n",
    "            #mdl.add_constraints(mdl.suCHP[d,h]-mdl.sdCHP[d,h]==mdl.yCHP[d,h]-mdl.yCHP[d,h-1] for d in chp)\n",
    "    #for h in Horizon:\n",
    "        #if h==(len(Demand)-1):\n",
    "            #mdl.add_constraints(mdl.CHPIn[d,h]>=(0.18*(mdl.AuxCHP[d,h]-mdl.AuxCHPsu[d,h]))+(0.25*0.18*mdl.AuxCHPsu[d,h]) for d in chp)\n",
    "            #mdl.add_constraints(mdl.CHPIn[d,h]<=(mdl.AuxCHP[d,h]-mdl.AuxCHPsu[d,h])+((1-0.18)*mdl.AuxCHPsu[d,h]*(1-0.25)+0.18*mdl.AuxCHPsu[d,h]) for d in chp)\n",
    "            #mdl.add_constraints(mdl.AuxCHPsd[d,h]==0 for d in chp)\n",
    "        #else:\n",
    "            #mdl.add_constraints(mdl.CHPIn[d,h]>=(0.18*(mdl.AuxCHP[d,h]-mdl.AuxCHPsd[d,h+1]-mdl.AuxCHPsu[d,h]))+(0.25*0.18*mdl.AuxCHPsu[d,h]) for d in chp)#ramp up min\n",
    "            #mdl.add_constraints(mdl.CHPIn[d,h]<=mdl.AuxCHP[d,h]-mdl.AuxCHPsu[d,h]+((1-0.18)*mdl.AuxCHPsu[d,h]*(1-0.25)+0.18*mdl.AuxCHPsu[d,h]) for d in chp)#ramp up max\n",
    "            #mdl.add_constraints(mdl.CHPIn[d,h]<=(mdl.AuxCHP[d,h]-mdl.AuxCHPsd[d,h+1])+((1-0.18)*mdl.AuxCHPsd[d,h+1]*(1-0.25)+0.18*mdl.AuxCHPsd[d,h+1])for d in chp)\n",
    "            #mdl.add_constraints(mdl.AuxCHP[d,h]-mdl.AuxCHPsd[d,h+1]-mdl.AuxCHPsu[d,h]>=0 for d in chp)\n",
    "    #calculate costs\n",
    "\n",
    "    #mdl.add_constraint(mdl.CHPIn[1,4000]>=100)\n",
    "    #mdl.add_constraint(mdl.SizeCHP[1]>=100)#del\n",
    "    #mdl.add_constraint(mdl.SizeCHP[0]>=100)#del\n",
    "    #mdl.add_constraint(mdl.SizeStor[0]==0)#del\n",
    "    #mdl.add_constraint(mdl.SizeStor[1]==0)#del\n",
    "    #mdl.add_constraint(mdl.SizeStor[2]>=10000)\n",
    "    mdl.add_constraints(mdl.HPCapCost[p]==AnnuityHP[p]*(TechHP[p].fixed_cost*mdl.InstHP[p]+TechHP[p].var_cost*mdl.SizeHP[p]) for p in hps)\n",
    "    mdl.add_constraints(mdl.BoilCapCost[b]==AnnuityB[b]*(TechB[b].fixed_cost*mdl.InstBoiler[b]+TechB[b].var_cost*mdl.SizeBoiler[b]) for b in boil)\n",
    "    mdl.add_constraints(mdl.StorCapCost[s]==AnnuityS[s]*(TechStor[s].fixed_cost*mdl.InstStor[s]+mdl.SizeStor[s]*TechStor[s].var_cost) for s in stor)\n",
    "    mdl.add_constraints(mdl.CompCapCost==AnnuityComp[p]*CompTech[p].unit_cost*mdl.SizeComp for p in comp)\n",
    "    mdl.add_constraints(mdl.CHPCapCost[d]==AnnuityCHP[d]*(TechCHP[d].fixed_cost*mdl.InstCHP[d]+TechCHP[d].var_cost*mdl.SizeCHP[d]) for d in chp)\n",
    "    mdl.add_constraints(mdl.RCapCost[r]==AnnuityR[r]*(TechRenew[r].fixed_cost*mdl.InstR[r]+mdl.SizeR[r]*TechRenew[r].var_cost) for r in renew)\n",
    "    mdl.add_constraints(mdl.OMFCostHP[p]==TechHP[p].OMF*mdl.SizeHP[p] for p in hps)\n",
    "\n",
    "    mdl.add_constraints(mdl.OMFCostStor[s]==TechStor[s].OMF*mdl.SizeStor[s] for s in stor)\n",
    "    mdl.add_constraints(mdl.OMFCostBoil[b]==TechB[b].OMF*mdl.SizeBoiler[b] for b in boil)\n",
    "    mdl.add_constraints(mdl.OMVCostBoil[b]==mdl.sum(mdl.BoilOut[b,h] for h in Horizon)*TechB[b].OMV for b in boil)\n",
    "    mdl.add_constraints(mdl.OMVCostCHP[d]==mdl.sum(mdl.CHPOut[d,h]for h in Horizon)*TechCHP[d].OMV for d in chp)\n",
    "    mdl.add_constraints(mdl.OMFCostR[r]==mdl.SizeR[r]*TechRenew[r].OMF for r in renew)\n",
    "    mdl.add_constraints(mdl.OMVCostR[r]==mdl.sum(mdl.ROut[r,h] for h in Horizon)*TechRenew[r].OMV for r in renew)\n",
    "    mdl.add_constraint(mdl.NGCost==0.067*mdl.sum(mdl.NGIn[h] for h in Horizon))\n",
    "    mdl.add_constraint(mdl.NGCO2==0.20*mdl.sum(mdl.NGIn[h] for h in Horizon))\n",
    "    mdl.add_constraint(mdl.OilCost==0.062*mdl.sum(mdl.BoilOut[1,h] for h in Horizon))\n",
    "    mdl.add_constraint(mdl.WoodCost==0.075*mdl.sum(mdl.BoilOut[2,h] for h in Horizon))\n",
    "    mdl.add_constraint(mdl.OilCO2==0.27*mdl.sum(mdl.BoilOut[1,h] for h in Horizon))\n",
    "    mdl.add_constraint(mdl.ElecCost==0.198*mdl.sum(mdl.ElecIn[h] for h in Horizon))\n",
    "    mdl.add_constraint(mdl.FITProfit==0.12*mdl.sum(mdl.ElecOut[h] for h in Horizon)) #assuming to non-renewable eletricity production\n",
    "    mdl.add_constraint(mdl.ElecCO2==mdl.sum(mdl.ElecIn[h] for h in Horizon)*0.09)\n",
    "    mdl.add_constraint(mdl.TotalCost==mdl.sum(mdl.HPCapCost[p] for p in hps)+mdl.sum(mdl.BoilCapCost[b] for b in boil)+mdl.WoodCost+mdl.sum(mdl.CHPCapCost[d] for d in chp)+mdl.sum(mdl.RCapCost[r] for r in renew)+mdl.CompCapCost+mdl.sum(mdl.StorCapCost[s] for s in stor)+mdl.sum(mdl.OMFCostHP[p] for p in hps)+mdl.sum(mdl.OMFCostBoil[b] for b in boil)+mdl.sum(mdl.OMFCostR[r] for r in renew)+mdl.sum(mdl.OMFCostStor[s] for s in stor)+mdl.sum(mdl.OMVCostCHP[d] for d in chp)+mdl.sum(mdl.OMVCostR[r] for r in renew)+mdl.sum(mdl.OMVCostBoil[b] for b in boil)-mdl.FITProfit+mdl.NGCost+mdl.ElecCost+mdl.OilCost)\n",
    "    mdl.add_constraint(mdl.TotalCO2==mdl.ElecCO2+mdl.NGCO2+mdl.OilCO2)\n",
    "    #mdl.add_constraint(mdl.TotalCO2<=EpConst)\n",
    "    mdl.add_constraint(mdl.SizeBoiler[2]==0)\n",
    "    mdl.print_information()\n",
    "    # Minimize cost\n",
    "    return mdl"
   ]
  },
  {
   "cell_type": "code",
   "execution_count": 48,
   "metadata": {
    "collapsed": false
   },
   "outputs": [],
   "source": [
    "def cost_min(mdl):\n",
    "    mdl.minimize(mdl.TotalCost)\n",
    "    return mdl"
   ]
  },
  {
   "cell_type": "code",
   "execution_count": 49,
   "metadata": {
    "collapsed": false
   },
   "outputs": [],
   "source": [
    "def co2_min(mdl):\n",
    "    mdl.minimize(mdl.TotalCost*0.000001+mdl.TotalCO2)\n",
    "    return mdl"
   ]
  },
  {
   "cell_type": "code",
   "execution_count": null,
   "metadata": {
    "collapsed": false
   },
   "outputs": [],
   "source": [
    "#not for building level!\n",
    "for i in range(1,19):\n",
    "    #Econstraint=Econst.loc[i-1,'1']\n",
    "    Costname='NCost_'+str(i)\n",
    "    CO2name='NCO2_'+str(i)\n",
    "    MaxRoof,MaxEvap,Demand,RPotential=load_data(i,ElecDemand,HeatDemand,totalPV,totalST,TotalRoofArea,DGSHP)\n",
    "    mm=build_model(MaxEvap,MaxRoof,Demand,RPotential,hps,boil,renew,chp,TechHP,TechB,TechRenew,TechCHP,FuelProp,TechStor,CompTech,AnnuityHP,AnnuityB,AnnuityCHP,AnnuityR,AnnuityS,AnnuityComp,COPHP)\n",
    "    mc=cost_min(mm)\n",
    "    mc.export_as_lp(basename=Costname,path='E:\\Master2')"
   ]
  },
  {
   "cell_type": "code",
   "execution_count": 37,
   "metadata": {
    "collapsed": false
   },
   "outputs": [],
   "source": [
    "HeatOut=pd.DataFrame(index=Horizon,columns=['GSHP','ASHP','Gas_boiler','Oil_boiler','ST','PEMFC'])\n",
    "ElecOuts=pd.DataFrame(index=Horizon,columns=['ElecIn','PV','PEMFC'])\n",
    "Extras=pd.DataFrame(index=Horizon,columns=['NGin','ElecOut','HeatDump','PEMEC-H2'])\n",
    "AuxBoilers=pd.DataFrame(index=Horizon,columns=['AuxGasBoiler','AuxOilBoiler','yGasBoiler','yOilBoiler'])\n",
    "AuxCHPs=pd.DataFrame(index=Horizon,columns=['AuxPEMFC-elec','AuxPEMEC','yPEMFC-elec','yPEMEC'])\n",
    "Charge=pd.DataFrame(index=Horizon,columns=['Bat','TES','Hydrogen'])\n",
    "Discharge=pd.DataFrame(index=Horizon,columns=['Bat','TES','Hydrogen'])\n",
    "Level=pd.DataFrame(index=Horizon,columns=['Bat','TES','Hydrogen'])\n",
    "for h in Horizon:\n",
    "    HeatOut.loc[h,'Gas_boiler']=mdl.BoilOut[0,h].solution_value\n",
    "    HeatOut.loc[h,'GSHP']=mdl.HPOut[0,h].solution_value\n",
    "    HeatOut.loc[h,'ASHP']=mdl.HPOut[1,h].solution_value\n",
    "    HeatOut.loc[h,'Oil_boiler']=mdl.BoilOut[1,h].solution_value\n",
    "    HeatOut.loc[h,'PEMFC']=mdl.CHPheat[h].solution_value\n",
    "    HeatOut.loc[h,'ST']=mdl.ROut[1,h].solution_value\n",
    "    ElecOuts.loc[h,'PV']=mdl.ROut[0,h].solution_value\n",
    "    ElecOuts.loc[h,'ElecIn']=mdl.ElecIn[h].solution_value\n",
    "    ElecOuts.loc[h,'PEMFC']=mdl.CHPOut[0,h].solution_value\n",
    "    Extras.loc[h,'NGin']=mdl.NGIn[h].solution_value\n",
    "    Extras.loc[h,'PEMEC-H2']=mdl.CHPOut[1,h].solution_value\n",
    "    Extras.loc[h,'ElecOut']=mdl.ElecOut[h].solution_value\n",
    "    Extras.loc[h,'HeatDump']=mdl.HeatDump[h].solution_value\n",
    "    AuxCHPs.loc[h,'AuxPEMFC-elec']=mdl.AuxCHP[0,h].solution_value\n",
    "    AuxCHPs.loc[h,'AuxPEMEC']=mdl.AuxCHP[1,h].solution_value\n",
    "    AuxCHPs.loc[h,'yPEMFC-elec']=mdl.yCHP[0,h].solution_value\n",
    "    AuxCHPs.loc[h,'yPEMEC']=mdl.yCHP[1,h].solution_value\n",
    "    Charge.loc[h,'Bat']=mdl.StorCharge[0,h].solution_value\n",
    "    Discharge.loc[h,'Bat']=mdl.StorDischarge[0,h].solution_value\n",
    "    Level.loc[h,'Bat']=mdl.StorLevel[0,h].solution_value\n",
    "    Charge.loc[h,'TES']=mdl.StorCharge[1,h].solution_value\n",
    "    Discharge.loc[h,'TES']=mdl.StorDischarge[1,h].solution_value\n",
    "    Level.loc[h,'TES']=mdl.StorLevel[1,h].solution_value\n",
    "    Charge.loc[h,'Hydrogen']=mdl.StorCharge[2,h].solution_value\n",
    "    Discharge.loc[h,'Hydrogen']=mdl.StorDischarge[2,h].solution_value\n",
    "    Level.loc[h,'Hydrogen']=mdl.StorLevel[2,h].solution_value"
   ]
  },
  {
   "cell_type": "code",
   "execution_count": 38,
   "metadata": {
    "collapsed": true
   },
   "outputs": [],
   "source": [
    "EnIn=pd.DataFrame(index=Horizon,columns=['GSHP','ASHP','Gas_boiler','Oil_boiler','Comp-elec','PEMFC-H2','PEMEC-Elec','ElecIn'])\n",
    "for h in Horizon:\n",
    "    EnIn.loc[h,'Gas_boiler']=mdl.BoilIn[0,h].solution_value\n",
    "    EnIn.loc[h,'GSHP']=mdl.HPIn[0,h].solution_value\n",
    "    EnIn.loc[h,'ASHP']=mdl.HPIn[1,h].solution_value\n",
    "    EnIn.loc[h,'Comp-elec']=mdl.CompElec[h].solution_value\n",
    "    EnIn.loc[h,'Oil_boiler']=mdl.BoilIn[1,h].solution_value\n",
    "    EnIn.loc[h,'PEMFC-H2']=mdl.CHPIn[0,h].solution_value\n",
    "    EnIn.loc[h,'PEMEC-Elec']=mdl.CHPIn[1,h].solution_value\n",
    "    EnIn.loc[h,'ElecIn']=mdl.ElecIn[h].solution_value"
   ]
  },
  {
   "cell_type": "code",
   "execution_count": 39,
   "metadata": {
    "collapsed": false
   },
   "outputs": [
    {
     "name": "stdout",
     "output_type": "stream",
     "text": [
      "Gas_boiler\n",
      "Oil_boiler\n",
      "Comp-elec\n"
     ]
    },
    {
     "ename": "KeyError",
     "evalue": "'Comp-elec'",
     "output_type": "error",
     "traceback": [
      "\u001b[1;31m---------------------------------------------------------------------------\u001b[0m",
      "\u001b[1;31mKeyError\u001b[0m                                  Traceback (most recent call last)",
      "\u001b[1;32m<ipython-input-39-862f350f1dc3>\u001b[0m in \u001b[0;36m<module>\u001b[1;34m()\u001b[0m\n\u001b[0;32m     14\u001b[0m     \u001b[0mConvSize\u001b[0m\u001b[1;33m.\u001b[0m\u001b[0mloc\u001b[0m\u001b[1;33m[\u001b[0m\u001b[0mctec\u001b[0m\u001b[1;33m[\u001b[0m\u001b[0mb\u001b[0m\u001b[1;33m+\u001b[0m\u001b[1;36m2\u001b[0m\u001b[1;33m]\u001b[0m\u001b[1;33m,\u001b[0m\u001b[1;34m'OMF'\u001b[0m\u001b[1;33m]\u001b[0m\u001b[1;33m=\u001b[0m\u001b[0mmdl\u001b[0m\u001b[1;33m.\u001b[0m\u001b[0mOMFCostBoil\u001b[0m\u001b[1;33m[\u001b[0m\u001b[0mb\u001b[0m\u001b[1;33m]\u001b[0m\u001b[1;33m.\u001b[0m\u001b[0msolution_value\u001b[0m\u001b[1;33m\u001b[0m\u001b[0m\n\u001b[0;32m     15\u001b[0m     \u001b[0mConvSize\u001b[0m\u001b[1;33m.\u001b[0m\u001b[0mloc\u001b[0m\u001b[1;33m[\u001b[0m\u001b[0mctec\u001b[0m\u001b[1;33m[\u001b[0m\u001b[0mb\u001b[0m\u001b[1;33m+\u001b[0m\u001b[1;36m2\u001b[0m\u001b[1;33m]\u001b[0m\u001b[1;33m,\u001b[0m\u001b[1;34m'OMV'\u001b[0m\u001b[1;33m]\u001b[0m\u001b[1;33m=\u001b[0m\u001b[0mmdl\u001b[0m\u001b[1;33m.\u001b[0m\u001b[0mOMVCostBoil\u001b[0m\u001b[1;33m[\u001b[0m\u001b[0mb\u001b[0m\u001b[1;33m]\u001b[0m\u001b[1;33m.\u001b[0m\u001b[0msolution_value\u001b[0m\u001b[1;33m\u001b[0m\u001b[0m\n\u001b[1;32m---> 16\u001b[1;33m     \u001b[0mConvSize\u001b[0m\u001b[1;33m.\u001b[0m\u001b[0mloc\u001b[0m\u001b[1;33m[\u001b[0m\u001b[0mctec\u001b[0m\u001b[1;33m[\u001b[0m\u001b[0mb\u001b[0m\u001b[1;33m+\u001b[0m\u001b[1;36m2\u001b[0m\u001b[1;33m]\u001b[0m\u001b[1;33m,\u001b[0m\u001b[1;34m'ProdOut'\u001b[0m\u001b[1;33m]\u001b[0m\u001b[1;33m=\u001b[0m\u001b[0mHeatOut\u001b[0m\u001b[1;33m[\u001b[0m\u001b[0mctec\u001b[0m\u001b[1;33m[\u001b[0m\u001b[0mb\u001b[0m\u001b[1;33m+\u001b[0m\u001b[1;36m2\u001b[0m\u001b[1;33m]\u001b[0m\u001b[1;33m]\u001b[0m\u001b[1;33m.\u001b[0m\u001b[0msum\u001b[0m\u001b[1;33m(\u001b[0m\u001b[1;33m)\u001b[0m\u001b[1;33m\u001b[0m\u001b[0m\n\u001b[0m\u001b[0;32m     17\u001b[0m     \u001b[0mConvSize\u001b[0m\u001b[1;33m.\u001b[0m\u001b[0mloc\u001b[0m\u001b[1;33m[\u001b[0m\u001b[0mctec\u001b[0m\u001b[1;33m[\u001b[0m\u001b[0mb\u001b[0m\u001b[1;33m+\u001b[0m\u001b[1;36m2\u001b[0m\u001b[1;33m]\u001b[0m\u001b[1;33m,\u001b[0m\u001b[1;34m'EnIn'\u001b[0m\u001b[1;33m]\u001b[0m\u001b[1;33m=\u001b[0m\u001b[0mEnIn\u001b[0m\u001b[1;33m[\u001b[0m\u001b[0mctec\u001b[0m\u001b[1;33m[\u001b[0m\u001b[0mb\u001b[0m\u001b[1;33m+\u001b[0m\u001b[1;36m2\u001b[0m\u001b[1;33m]\u001b[0m\u001b[1;33m]\u001b[0m\u001b[1;33m.\u001b[0m\u001b[0msum\u001b[0m\u001b[1;33m(\u001b[0m\u001b[1;33m)\u001b[0m\u001b[1;33m\u001b[0m\u001b[0m\n\u001b[0;32m     18\u001b[0m \u001b[0mConvSize\u001b[0m\u001b[1;33m.\u001b[0m\u001b[0mloc\u001b[0m\u001b[1;33m[\u001b[0m\u001b[1;34m'Comp-elec'\u001b[0m\u001b[1;33m,\u001b[0m\u001b[1;34m'ProdOut'\u001b[0m\u001b[1;33m]\u001b[0m\u001b[1;33m=\u001b[0m\u001b[1;36m0\u001b[0m\u001b[1;33m\u001b[0m\u001b[0m\n",
      "\u001b[1;32mC:\\Anaconda2\\lib\\site-packages\\pandas\\core\\frame.pyc\u001b[0m in \u001b[0;36m__getitem__\u001b[1;34m(self, key)\u001b[0m\n\u001b[0;32m   1967\u001b[0m             \u001b[1;32mreturn\u001b[0m \u001b[0mself\u001b[0m\u001b[1;33m.\u001b[0m\u001b[0m_getitem_multilevel\u001b[0m\u001b[1;33m(\u001b[0m\u001b[0mkey\u001b[0m\u001b[1;33m)\u001b[0m\u001b[1;33m\u001b[0m\u001b[0m\n\u001b[0;32m   1968\u001b[0m         \u001b[1;32melse\u001b[0m\u001b[1;33m:\u001b[0m\u001b[1;33m\u001b[0m\u001b[0m\n\u001b[1;32m-> 1969\u001b[1;33m             \u001b[1;32mreturn\u001b[0m \u001b[0mself\u001b[0m\u001b[1;33m.\u001b[0m\u001b[0m_getitem_column\u001b[0m\u001b[1;33m(\u001b[0m\u001b[0mkey\u001b[0m\u001b[1;33m)\u001b[0m\u001b[1;33m\u001b[0m\u001b[0m\n\u001b[0m\u001b[0;32m   1970\u001b[0m \u001b[1;33m\u001b[0m\u001b[0m\n\u001b[0;32m   1971\u001b[0m     \u001b[1;32mdef\u001b[0m \u001b[0m_getitem_column\u001b[0m\u001b[1;33m(\u001b[0m\u001b[0mself\u001b[0m\u001b[1;33m,\u001b[0m \u001b[0mkey\u001b[0m\u001b[1;33m)\u001b[0m\u001b[1;33m:\u001b[0m\u001b[1;33m\u001b[0m\u001b[0m\n",
      "\u001b[1;32mC:\\Anaconda2\\lib\\site-packages\\pandas\\core\\frame.pyc\u001b[0m in \u001b[0;36m_getitem_column\u001b[1;34m(self, key)\u001b[0m\n\u001b[0;32m   1974\u001b[0m         \u001b[1;31m# get column\u001b[0m\u001b[1;33m\u001b[0m\u001b[1;33m\u001b[0m\u001b[0m\n\u001b[0;32m   1975\u001b[0m         \u001b[1;32mif\u001b[0m \u001b[0mself\u001b[0m\u001b[1;33m.\u001b[0m\u001b[0mcolumns\u001b[0m\u001b[1;33m.\u001b[0m\u001b[0mis_unique\u001b[0m\u001b[1;33m:\u001b[0m\u001b[1;33m\u001b[0m\u001b[0m\n\u001b[1;32m-> 1976\u001b[1;33m             \u001b[1;32mreturn\u001b[0m \u001b[0mself\u001b[0m\u001b[1;33m.\u001b[0m\u001b[0m_get_item_cache\u001b[0m\u001b[1;33m(\u001b[0m\u001b[0mkey\u001b[0m\u001b[1;33m)\u001b[0m\u001b[1;33m\u001b[0m\u001b[0m\n\u001b[0m\u001b[0;32m   1977\u001b[0m \u001b[1;33m\u001b[0m\u001b[0m\n\u001b[0;32m   1978\u001b[0m         \u001b[1;31m# duplicate columns & possible reduce dimensionality\u001b[0m\u001b[1;33m\u001b[0m\u001b[1;33m\u001b[0m\u001b[0m\n",
      "\u001b[1;32mC:\\Anaconda2\\lib\\site-packages\\pandas\\core\\generic.pyc\u001b[0m in \u001b[0;36m_get_item_cache\u001b[1;34m(self, item)\u001b[0m\n\u001b[0;32m   1089\u001b[0m         \u001b[0mres\u001b[0m \u001b[1;33m=\u001b[0m \u001b[0mcache\u001b[0m\u001b[1;33m.\u001b[0m\u001b[0mget\u001b[0m\u001b[1;33m(\u001b[0m\u001b[0mitem\u001b[0m\u001b[1;33m)\u001b[0m\u001b[1;33m\u001b[0m\u001b[0m\n\u001b[0;32m   1090\u001b[0m         \u001b[1;32mif\u001b[0m \u001b[0mres\u001b[0m \u001b[1;32mis\u001b[0m \u001b[0mNone\u001b[0m\u001b[1;33m:\u001b[0m\u001b[1;33m\u001b[0m\u001b[0m\n\u001b[1;32m-> 1091\u001b[1;33m             \u001b[0mvalues\u001b[0m \u001b[1;33m=\u001b[0m \u001b[0mself\u001b[0m\u001b[1;33m.\u001b[0m\u001b[0m_data\u001b[0m\u001b[1;33m.\u001b[0m\u001b[0mget\u001b[0m\u001b[1;33m(\u001b[0m\u001b[0mitem\u001b[0m\u001b[1;33m)\u001b[0m\u001b[1;33m\u001b[0m\u001b[0m\n\u001b[0m\u001b[0;32m   1092\u001b[0m             \u001b[0mres\u001b[0m \u001b[1;33m=\u001b[0m \u001b[0mself\u001b[0m\u001b[1;33m.\u001b[0m\u001b[0m_box_item_values\u001b[0m\u001b[1;33m(\u001b[0m\u001b[0mitem\u001b[0m\u001b[1;33m,\u001b[0m \u001b[0mvalues\u001b[0m\u001b[1;33m)\u001b[0m\u001b[1;33m\u001b[0m\u001b[0m\n\u001b[0;32m   1093\u001b[0m             \u001b[0mcache\u001b[0m\u001b[1;33m[\u001b[0m\u001b[0mitem\u001b[0m\u001b[1;33m]\u001b[0m \u001b[1;33m=\u001b[0m \u001b[0mres\u001b[0m\u001b[1;33m\u001b[0m\u001b[0m\n",
      "\u001b[1;32mC:\\Anaconda2\\lib\\site-packages\\pandas\\core\\internals.pyc\u001b[0m in \u001b[0;36mget\u001b[1;34m(self, item, fastpath)\u001b[0m\n\u001b[0;32m   3209\u001b[0m \u001b[1;33m\u001b[0m\u001b[0m\n\u001b[0;32m   3210\u001b[0m             \u001b[1;32mif\u001b[0m \u001b[1;32mnot\u001b[0m \u001b[0misnull\u001b[0m\u001b[1;33m(\u001b[0m\u001b[0mitem\u001b[0m\u001b[1;33m)\u001b[0m\u001b[1;33m:\u001b[0m\u001b[1;33m\u001b[0m\u001b[0m\n\u001b[1;32m-> 3211\u001b[1;33m                 \u001b[0mloc\u001b[0m \u001b[1;33m=\u001b[0m \u001b[0mself\u001b[0m\u001b[1;33m.\u001b[0m\u001b[0mitems\u001b[0m\u001b[1;33m.\u001b[0m\u001b[0mget_loc\u001b[0m\u001b[1;33m(\u001b[0m\u001b[0mitem\u001b[0m\u001b[1;33m)\u001b[0m\u001b[1;33m\u001b[0m\u001b[0m\n\u001b[0m\u001b[0;32m   3212\u001b[0m             \u001b[1;32melse\u001b[0m\u001b[1;33m:\u001b[0m\u001b[1;33m\u001b[0m\u001b[0m\n\u001b[0;32m   3213\u001b[0m                 \u001b[0mindexer\u001b[0m \u001b[1;33m=\u001b[0m \u001b[0mnp\u001b[0m\u001b[1;33m.\u001b[0m\u001b[0marange\u001b[0m\u001b[1;33m(\u001b[0m\u001b[0mlen\u001b[0m\u001b[1;33m(\u001b[0m\u001b[0mself\u001b[0m\u001b[1;33m.\u001b[0m\u001b[0mitems\u001b[0m\u001b[1;33m)\u001b[0m\u001b[1;33m)\u001b[0m\u001b[1;33m[\u001b[0m\u001b[0misnull\u001b[0m\u001b[1;33m(\u001b[0m\u001b[0mself\u001b[0m\u001b[1;33m.\u001b[0m\u001b[0mitems\u001b[0m\u001b[1;33m)\u001b[0m\u001b[1;33m]\u001b[0m\u001b[1;33m\u001b[0m\u001b[0m\n",
      "\u001b[1;32mC:\\Anaconda2\\lib\\site-packages\\pandas\\core\\index.pyc\u001b[0m in \u001b[0;36mget_loc\u001b[1;34m(self, key, method, tolerance)\u001b[0m\n\u001b[0;32m   1757\u001b[0m                                  'backfill or nearest lookups')\n\u001b[0;32m   1758\u001b[0m             \u001b[0mkey\u001b[0m \u001b[1;33m=\u001b[0m \u001b[0m_values_from_object\u001b[0m\u001b[1;33m(\u001b[0m\u001b[0mkey\u001b[0m\u001b[1;33m)\u001b[0m\u001b[1;33m\u001b[0m\u001b[0m\n\u001b[1;32m-> 1759\u001b[1;33m             \u001b[1;32mreturn\u001b[0m \u001b[0mself\u001b[0m\u001b[1;33m.\u001b[0m\u001b[0m_engine\u001b[0m\u001b[1;33m.\u001b[0m\u001b[0mget_loc\u001b[0m\u001b[1;33m(\u001b[0m\u001b[0mkey\u001b[0m\u001b[1;33m)\u001b[0m\u001b[1;33m\u001b[0m\u001b[0m\n\u001b[0m\u001b[0;32m   1760\u001b[0m \u001b[1;33m\u001b[0m\u001b[0m\n\u001b[0;32m   1761\u001b[0m         indexer = self.get_indexer([key], method=method,\n",
      "\u001b[1;32mpandas\\index.pyx\u001b[0m in \u001b[0;36mpandas.index.IndexEngine.get_loc (pandas\\index.c:3979)\u001b[1;34m()\u001b[0m\n",
      "\u001b[1;32mpandas\\index.pyx\u001b[0m in \u001b[0;36mpandas.index.IndexEngine.get_loc (pandas\\index.c:3843)\u001b[1;34m()\u001b[0m\n",
      "\u001b[1;32mpandas\\hashtable.pyx\u001b[0m in \u001b[0;36mpandas.hashtable.PyObjectHashTable.get_item (pandas\\hashtable.c:12265)\u001b[1;34m()\u001b[0m\n",
      "\u001b[1;32mpandas\\hashtable.pyx\u001b[0m in \u001b[0;36mpandas.hashtable.PyObjectHashTable.get_item (pandas\\hashtable.c:12216)\u001b[1;34m()\u001b[0m\n",
      "\u001b[1;31mKeyError\u001b[0m: 'Comp-elec'"
     ]
    }
   ],
   "source": [
    "ctec=['GSHP','ASHP','Gas_boiler','Oil_boiler','Comp-elec']\n",
    "ConvSize=pd.DataFrame(index=ctec,columns=['Size','CapCost','OMF','OMV','ProdOut','EnIn'])\n",
    "for h in hps:\n",
    "    ConvSize.loc[ctec[h],'Size']=mdl.SizeHP[h].solution_value\n",
    "    ConvSize.loc[ctec[h],'CapCost']=mdl.HPCapCost[h].solution_value\n",
    "    ConvSize.loc[ctec[h],'OMF']=mdl.OMFCostHP[h].solution_value\n",
    "    ConvSize.loc[ctec[h],'OMV']=0\n",
    "    ConvSize.loc[ctec[h],'ProdOut']=HeatOut[ctec[h]].sum()\n",
    "    ConvSize.loc[ctec[h],'EnIn']=EnIn[ctec[h]].sum()\n",
    "for b in boil:\n",
    "    print(ctec[b+2])\n",
    "    ConvSize.loc[ctec[b+2],'Size']=mdl.SizeBoiler[b].solution_value\n",
    "    ConvSize.loc[ctec[b+2],'CapCost']=mdl.BoilCapCost[b].solution_value\n",
    "    ConvSize.loc[ctec[b+2],'OMF']=mdl.OMFCostBoil[b].solution_value\n",
    "    ConvSize.loc[ctec[b+2],'OMV']=mdl.OMVCostBoil[b].solution_value\n",
    "    ConvSize.loc[ctec[b+2],'ProdOut']=HeatOut[ctec[b+2]].sum()\n",
    "    ConvSize.loc[ctec[b+2],'EnIn']=EnIn[ctec[b+2]].sum()\n",
    "ConvSize.loc['Comp-elec','ProdOut']=0\n",
    "ConvSize.loc['Comp-elec','EnIn']=EnIn['Comp-elec'].sum()\n",
    "ConvSize"
   ]
  },
  {
   "cell_type": "code",
   "execution_count": null,
   "metadata": {
    "collapsed": false
   },
   "outputs": [],
   "source": [
    "dtec=['PEMFC','PEMEC']\n",
    "CHPSize=pd.DataFrame(index=dtec,columns=['Size','CapCost','OMF','OMV','Prod','EnIn','Heat'])\n",
    "for d in chp:\n",
    "    CHPSize.loc[dtec[d],'Size']=mdl.SizeCHP[d].solution_value\n",
    "    CHPSize.loc[dtec[d],'CapCost']=mdl.CHPCapCost[d].solution_value\n",
    "    CHPSize.loc[dtec[d],'OMF']=0\n",
    "    CHPSize.loc[dtec[d],'OMV']=mdl.OMVCostCHP[d].solution_value\n",
    "CHPSize.loc['PEMFC','Prod']=ElecOuts['PEMFC'].sum()\n",
    "CHPSize.loc['PEMFC','Heat']=HeatOut['PEMFC'].sum()\n",
    "CHPSize.loc['PEMEC','Prod']=Extras['PEMEC-H2'].sum()\n",
    "CHPSize.loc['PEMEC','EnIn']=EnIn['PEMEC-Elec'].sum()\n",
    "CHPSize.loc['PEMFC','EnIn']=EnIn['PEMFC-H2'].sum()\n",
    "CHPSize"
   ]
  },
  {
   "cell_type": "code",
   "execution_count": null,
   "metadata": {
    "collapsed": false
   },
   "outputs": [],
   "source": [
    "rtec=['PV','ST']\n",
    "RenewSize=pd.DataFrame(index=['PV','ST'],columns=['Size','CapCost','OMF','OMV','ProdOut'])\n",
    "for r in renew:\n",
    "    RenewSize.loc[rtec[r],'Size']=mdl.SizeR[r].solution_value\n",
    "    RenewSize.loc[rtec[r],'CapCost']=mdl.RCapCost[r].solution_value\n",
    "    RenewSize.loc[rtec[r],'OMF']=mdl.OMFCostR[r].solution_value\n",
    "    RenewSize.loc[rtec[r],'OMV']=mdl.OMVCostR[r].solution_value\n",
    "RenewSize.loc[rtec[0],'ProdOut']=ElecOuts[rtec[0]].sum()\n",
    "RenewSize.loc[rtec[1],'ProdOut']=HeatOut[rtec[1]].sum()\n",
    "RenewSize"
   ]
  },
  {
   "cell_type": "code",
   "execution_count": null,
   "metadata": {
    "collapsed": false
   },
   "outputs": [],
   "source": [
    "stec=['Bat','TES','Hydrogen']\n",
    "StorSize=pd.DataFrame(index=stec,columns=['Size','CapCost','OMF','EnergyIn','EnergyOut'])\n",
    "\n",
    "for s in stor:\n",
    "    StorSize.loc[stec[s],'Size']=mdl.SizeStor[s].solution_value\n",
    "    StorSize.loc[stec[s],'CapCost']=mdl.StorCapCost[s].solution_value\n",
    "    StorSize.loc[stec[s],'OMF']=mdl.OMFCostStor[s].solution_value\n",
    "    StorSize.loc[stec[s],'EnergyIn']=Charge[stec[s]].sum()\n",
    "    StorSize.loc[stec[s],'EnergyOut']=Discharge[stec[s]].sum()\n",
    "StorSize"
   ]
  },
  {
   "cell_type": "code",
   "execution_count": 148,
   "metadata": {
    "collapsed": false
   },
   "outputs": [
    {
     "data": {
      "text/plain": [
       "Bat                0\n",
       "TES                0\n",
       "Hydrogen    87600000\n",
       "dtype: float64"
      ]
     },
     "execution_count": 148,
     "metadata": {},
     "output_type": "execute_result"
    }
   ],
   "source": [
    "Level.sum()"
   ]
  },
  {
   "cell_type": "code",
   "execution_count": null,
   "metadata": {
    "collapsed": true
   },
   "outputs": [],
   "source": []
  }
 ],
 "metadata": {
  "kernelspec": {
   "display_name": "Python 2",
   "language": "python",
   "name": "python2"
  },
  "language_info": {
   "codemirror_mode": {
    "name": "ipython",
    "version": 2
   },
   "file_extension": ".py",
   "mimetype": "text/x-python",
   "name": "python",
   "nbconvert_exporter": "python",
   "pygments_lexer": "ipython2",
   "version": "2.7.11"
  }
 },
 "nbformat": 4,
 "nbformat_minor": 0
}
