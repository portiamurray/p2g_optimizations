{
 "cells": [
  {
   "cell_type": "code",
   "execution_count": 1,
   "metadata": {
    "collapsed": true
   },
   "outputs": [],
   "source": [
    "from docplex.mp.model import Model\n",
    "from docplex.util.environment import get_environment\n",
    "from collections import namedtuple\n",
    "import pandas as pd\n",
    "import os\n",
    "import matplotlib.pyplot as plt\n",
    "%matplotlib inline"
   ]
  },
  {
   "cell_type": "code",
   "execution_count": 2,
   "metadata": {
    "collapsed": false
   },
   "outputs": [],
   "source": [
    "HeatDemand=18293049.464999985\n",
    "ElecDemand=9500242.261592042\n",
    "Data_frames={}\n",
    "SelfSuff=pd.DataFrame(index=range(1,6),columns=['Building','Neigh','Community','District','Village'])"
   ]
  },
  {
   "cell_type": "code",
   "execution_count": null,
   "metadata": {
    "collapsed": false
   },
   "outputs": [],
   "source": []
  },
  {
   "cell_type": "code",
   "execution_count": 39,
   "metadata": {
    "collapsed": false
   },
   "outputs": [
    {
     "data": {
      "text/plain": [
       "91351.63298689947"
      ]
     },
     "execution_count": 39,
     "metadata": {},
     "output_type": "execute_result"
    }
   ],
   "source": [
    "#Building level cost\n",
    "inde='Building'\n",
    "objective=1\n",
    "nodes='Cost'\n",
    "root=r'/Users/portia_murray/Dropbox/PhD/ICAE data/'\n",
    "Data_frames[inde]=pd.DataFrame(index=range(1,6),columns=['Electricity','Natural gas','Oil','HP','PV','ST'])\n",
    "NGOut=pd.read_csv(r'/Users/portia_murray/Dropbox/PhD/ICAE data/Building/Gas_boiler_out_Cost.csv')\n",
    "NGOut.drop(['Unnamed: 0'], axis=1,inplace=True)\n",
    "\n",
    "ElecIn=pd.read_csv(r'/Users/portia_murray/Dropbox/PhD/ICAE data/Building/Elec_in_Cost.csv')\n",
    "ElecIn.drop(['Unnamed: 0'], axis=1,inplace=True)\n",
    "Data_frames[inde].loc[objective,'Electricity']=ElecIn.sum().sum()\n",
    "OilOut=pd.read_csv(r'/Users/portia_murray/Dropbox/PhD/ICAE data/Building/Oil_boiler_out_Cost.csv')\n",
    "OilOut.drop(['Unnamed: 0'], axis=1,inplace=True)\n",
    "\n",
    "STout=pd.read_csv(root+inde+'/'+'ST_out_Cost.csv')\n",
    "STout.drop(['Unnamed: 0'], axis=1,inplace=True)\n",
    "PVout=pd.read_csv(root+inde+'/'+'PV_out_Cost.csv')\n",
    "PVout.drop(['Unnamed: 0'], axis=1,inplace=True)\n",
    "\n",
    "ElecOut=pd.read_csv(root+inde+'/Elec_out_Cost.csv')\n",
    "ElecOut.drop(['Unnamed: 0'], axis=1,inplace=True)\n",
    "\n",
    "GSHPout=pd.read_csv(root+inde+'/'+'GSHP_out._Cost.csv')\n",
    "GSHPout.drop(['Unnamed: 0'], axis=1,inplace=True)\n",
    "ASHPout=pd.read_csv(root+inde+'/'+'ASHP_in_Cost.csv')\n",
    "ASHPout.drop(['Unnamed: 0'], axis=1,inplace=True)\n",
    "\n",
    "GSHPin=pd.read_csv(root+inde+'/'+'GSHP_in_Cost.csv')\n",
    "GSHPin.drop(['Unnamed: 0'], axis=1,inplace=True)\n",
    "ASHPin=pd.read_csv(root+inde+'/'+'ASHP_in_Cost.csv')\n",
    "ASHPin.drop(['Unnamed: 0'], axis=1,inplace=True)\n",
    "extra=(NGOut.sum().sum()+OilOut.sum().sum()+ElecIn.sum().sum()+((GSHPout.sum().sum()-GSHPin.sum().sum())+(ASHPout.sum().sum()-ASHPin.sum().sum()))+(PVout.sum().sum()-ElecOut.sum().sum())+(STout.sum().sum()-HeatDump.sum().sum()))-(HeatDemand+ElecDemand)\n",
    "Data_frames[inde].loc[objective,'Natural gas']=NGOut.sum().sum()\n",
    "Data_frames[inde].loc[objective,'Oil']=OilOut.sum().sum()\n",
    "Data_frames[inde].loc[objective,'HP']=0\n",
    "Data_frames[inde].loc[objective,'PV']=PVout.sum().sum()-ElecOut.sum().sum()\n",
    "Data_frames[inde].loc[objective,'ST']=0\n",
    "#Data_frames[inde].loc[objective,'PEMFC']=0#??????\n",
    "SelfSuff.loc[objective,'Building']=((HeatDemand+ElecDemand)-(NGOut.sum().sum()+OilOut.sum().sum()+ElecIn.sum().sum()))/(HeatDemand+ElecDemand)\n",
    "extra"
   ]
  },
  {
   "cell_type": "code",
   "execution_count": 40,
   "metadata": {
    "collapsed": false
   },
   "outputs": [
    {
     "data": {
      "text/plain": [
       "176794.16912063956"
      ]
     },
     "execution_count": 40,
     "metadata": {},
     "output_type": "execute_result"
    }
   ],
   "source": [
    "#Node25 cost include elec when you get home!!!!!!!!!!!!!!!!!!READ\n",
    "#Building level cost\n",
    "inde='Building'\n",
    "objective=2\n",
    "nodes='Node25'\n",
    "root=r'/Users/portia_murray/Dropbox/PhD/ICAE data/'\n",
    "NGOut=pd.read_csv(root+inde+'/'+nodes+'_BoilOut0.csv')\n",
    "NGOut.drop(['Unnamed: 0'], axis=1,inplace=True)\n",
    "STout=pd.read_csv(root+inde+'/'+nodes+'_ROut1.csv')\n",
    "STout.drop(['Unnamed: 0'], axis=1,inplace=True)\n",
    "PVout=pd.read_csv(root+inde+'/'+nodes+'_ROut0.csv')\n",
    "PVout.drop(['Unnamed: 0'], axis=1,inplace=True)\n",
    "\n",
    "GSHPout=pd.read_csv(root+inde+'/'+nodes+'_HPOut0.csv')\n",
    "GSHPout.drop(['Unnamed: 0'], axis=1,inplace=True)\n",
    "ASHPout=pd.read_csv(root+inde+'/'+nodes+'_HPOut1.csv')\n",
    "ASHPout.drop(['Unnamed: 0'], axis=1,inplace=True)\n",
    "\n",
    "GSHPin=pd.read_csv(root+inde+'/'+nodes+'_HPIn0.csv')\n",
    "GSHPin.drop(['Unnamed: 0'], axis=1,inplace=True)\n",
    "ASHPin=pd.read_csv(root+inde+'/'+nodes+'_HPIn1.csv')\n",
    "ASHPin.drop(['Unnamed: 0'], axis=1,inplace=True)\n",
    "\n",
    "ElecOut=pd.read_csv(r'/Users/portia_murray/Dropbox/PhD/ICAE data/Building/Node25new_ElecOut.csv')\n",
    "ElecOut.drop(['Unnamed: 0'], axis=1,inplace=True)\n",
    "\n",
    "HeatDump=pd.read_csv(root+inde+'/'+nodes+'_HeatDump.csv')\n",
    "HeatDump.drop(['Unnamed: 0'], axis=1,inplace=True)\n",
    "ElecIn=pd.read_csv(root+inde+'/'+nodes+'_backcalc_elecin.csv')\n",
    "ElecIn.drop(['Unnamed: 0'], axis=1,inplace=True)\n",
    "OilOut=pd.read_csv(root+inde+'/'+nodes+'_BoilOut1.csv')\n",
    "OilOut.drop(['Unnamed: 0'], axis=1,inplace=True)\n",
    "extra=(NGOut.sum().sum()+OilOut.sum().sum()+ElecIn.sum().sum()+((GSHPout.sum().sum()-GSHPin.sum().sum())+(ASHPout.sum().sum()-ASHPin.sum().sum()))+(PVout.sum().sum()-ElecOut.sum().sum())+(STout.sum().sum()-HeatDump.sum().sum()))-(HeatDemand+ElecDemand)\n",
    "Data_frames[inde].loc[objective,'Natural gas']=NGOut.sum().sum()\n",
    "Data_frames[inde].loc[objective,'Oil']=OilOut.sum().sum()\n",
    "Data_frames[inde].loc[objective,'Electricity']=ElecIn.sum().sum()\n",
    "Data_frames[inde].loc[objective,'HP']=(GSHPout.sum().sum()-GSHPin.sum().sum())+(ASHPout.sum().sum()-ASHPin.sum().sum())\n",
    "Data_frames[inde].loc[objective,'PV']=PVout.sum().sum()-ElecOut.sum().sum()\n",
    "Data_frames[inde].loc[objective,'ST']=STout.sum().sum()-HeatDump.sum().sum()\n",
    "SelfSuff.loc[objective,inde]=((HeatDemand+ElecDemand)-(NGOut.sum().sum()+OilOut.sum().sum()+ElecIn.sum().sum()))/(HeatDemand+ElecDemand)\n",
    "extra"
   ]
  },
  {
   "cell_type": "code",
   "execution_count": 41,
   "metadata": {
    "collapsed": false,
    "scrolled": true
   },
   "outputs": [
    {
     "data": {
      "text/plain": [
       "28098411.637392677"
      ]
     },
     "execution_count": 41,
     "metadata": {},
     "output_type": "execute_result"
    }
   ],
   "source": [
    "#Node50 cost\n",
    "#Building level cost\n",
    "inde='Building'\n",
    "objective=3\n",
    "nodes='Node50new'\n",
    "root=r'/Users/portia_murray/Dropbox/PhD/ICAE data/'\n",
    "NGOut=pd.read_csv(root+inde+'/'+nodes+'_BoilOut0.csv')\n",
    "NGOut.drop(['Unnamed: 0'], axis=1,inplace=True)\n",
    "STout=pd.read_csv(root+inde+'/'+nodes+'_ROut1.csv')\n",
    "STout.drop(['Unnamed: 0'], axis=1,inplace=True)\n",
    "PVout=pd.read_csv(root+inde+'/'+nodes+'_ROut0.csv')\n",
    "PVout.drop(['Unnamed: 0'], axis=1,inplace=True)\n",
    "\n",
    "GSHPout=pd.read_csv(root+inde+'/'+nodes+'_HPOut0.csv')\n",
    "GSHPout.drop(['Unnamed: 0'], axis=1,inplace=True)\n",
    "ASHPout=pd.read_csv(root+inde+'/'+nodes+'_HPOut1.csv')\n",
    "ASHPout.drop(['Unnamed: 0'], axis=1,inplace=True)\n",
    "\n",
    "GSHPin=pd.read_csv(root+inde+'/'+nodes+'_HPIn0.csv')\n",
    "GSHPin.drop(['Unnamed: 0'], axis=1,inplace=True)\n",
    "ASHPin=pd.read_csv(root+inde+'/'+nodes+'_HPIn1.csv')\n",
    "ASHPin.drop(['Unnamed: 0'], axis=1,inplace=True)\n",
    "\n",
    "ElecOut=pd.read_csv(root+inde+'/'+nodes+'_ElecOut.csv')\n",
    "ElecOut.drop(['Unnamed: 0'], axis=1,inplace=True)\n",
    "\n",
    "HeatDump=pd.read_csv(root+inde+'/'+nodes+'_HeatDump.csv')\n",
    "HeatDump.drop(['Unnamed: 0'], axis=1,inplace=True)\n",
    "ElecIn=pd.read_csv(root+inde+'/'+nodes+'_ElecIn.csv')\n",
    "ElecIn.drop(['Unnamed: 0'], axis=1,inplace=True)\n",
    "OilOut=pd.read_csv(root+inde+'/'+nodes+'_BoilOut1.csv')\n",
    "OilOut.drop(['Unnamed: 0'], axis=1,inplace=True)\n",
    "extra=(NGOut.sum().sum()+OilOut.sum().sum()+ElecIn.sum().sum()+((GSHPout.sum().sum()-GSHPin.sum().sum())+(ASHPout.sum().sum()-ASHPin.sum().sum()))+(PVout.sum().sum()-ElecOut.sum().sum())+(STout.sum().sum()-HeatDump.sum().sum()))-(HeatDemand+ElecDemand)\n",
    "Data_frames[inde].loc[objective,'Natural gas']=NGOut.sum().sum()\n",
    "Data_frames[inde].loc[objective,'Oil']=OilOut.sum().sum()\n",
    "Data_frames[inde].loc[objective,'Electricity']=ElecIn.sum().sum()\n",
    "Data_frames[inde].loc[objective,'HP']=(GSHPout.sum().sum()-GSHPin.sum().sum())+(ASHPout.sum().sum()-ASHPin.sum().sum())-extra-HeatDump.sum().sum()\n",
    "Data_frames[inde].loc[objective,'PV']=PVout.sum().sum()-ElecOut.sum().sum()\n",
    "Data_frames[inde].loc[objective,'ST']=STout.sum().sum()\n",
    "SelfSuff.loc[objective,inde]=((HeatDemand+ElecDemand)-(NGOut.sum().sum()+OilOut.sum().sum()+ElecIn.sum().sum()))/(HeatDemand+ElecDemand)\n",
    "Total=ElecIn.sum().sum()+NGOut.sum().sum()+OilOut.sum().sum()+((GSHPout.sum().sum()-GSHPin.sum().sum())+(ASHPout.sum().sum()-ASHPin.sum().sum()))+(PVout.sum().sum()-ElecOut.sum().sum())+(STout.sum().sum()-HeatDump.sum().sum())\n",
    "Total"
   ]
  },
  {
   "cell_type": "code",
   "execution_count": 42,
   "metadata": {
    "collapsed": false
   },
   "outputs": [
    {
     "data": {
      "text/plain": [
       "27793291.726592027"
      ]
     },
     "execution_count": 42,
     "metadata": {},
     "output_type": "execute_result"
    }
   ],
   "source": [
    "(HeatDemand+ElecDemand)"
   ]
  },
  {
   "cell_type": "code",
   "execution_count": 43,
   "metadata": {
    "collapsed": false
   },
   "outputs": [],
   "source": [
    "inde='Building'\n",
    "objective=4\n",
    "nodes='Node75'\n",
    "root=r'/Users/portia_murray/Dropbox/PhD/ICAE data/'\n",
    "NGOut=pd.read_csv(root+inde+'/'+nodes+'_BoilOut0.csv')\n",
    "NGOut.drop(['Unnamed: 0'], axis=1,inplace=True)\n",
    "STout=pd.read_csv(root+inde+'/'+nodes+'_ROut1.csv')\n",
    "STout.drop(['Unnamed: 0'], axis=1,inplace=True)\n",
    "PVout=pd.read_csv(root+inde+'/'+nodes+'_ROut0.csv')\n",
    "PVout.drop(['Unnamed: 0'], axis=1,inplace=True)\n",
    "\n",
    "GSHPout=pd.read_csv(root+inde+'/'+nodes+'_HPOut0.csv')\n",
    "GSHPout.drop(['Unnamed: 0'], axis=1,inplace=True)\n",
    "ASHPout=pd.read_csv(root+inde+'/'+nodes+'_HPOut1.csv')\n",
    "ASHPout.drop(['Unnamed: 0'], axis=1,inplace=True)\n",
    "\n",
    "GSHPin=pd.read_csv(root+inde+'/'+nodes+'_HPIn0.csv')\n",
    "GSHPin.drop(['Unnamed: 0'], axis=1,inplace=True)\n",
    "ASHPin=pd.read_csv(root+inde+'/'+nodes+'_HPIn1.csv')\n",
    "ASHPin.drop(['Unnamed: 0'], axis=1,inplace=True)\n",
    "\n",
    "ElecOut=pd.read_csv(root+inde+'/'+nodes+'_ElecOut.csv')\n",
    "ElecOut.drop(['Unnamed: 0'], axis=1,inplace=True)\n",
    "\n",
    "HeatDump=pd.read_csv(root+inde+'/'+nodes+'_HeatDump.csv')\n",
    "HeatDump.drop(['Unnamed: 0'], axis=1,inplace=True)\n",
    "ElecIn=pd.read_csv(root+inde+'/'+nodes+'_ElecIn.csv')\n",
    "ElecIn.drop(['Unnamed: 0'], axis=1,inplace=True)\n",
    "OilOut=pd.read_csv(root+inde+'/'+nodes+'_BoilOut1.csv')\n",
    "OilOut.drop(['Unnamed: 0'], axis=1,inplace=True)\n",
    "extra=(NGOut.sum().sum()+OilOut.sum().sum()+ElecIn.sum().sum()+((GSHPout.sum().sum()-GSHPin.sum().sum())+(ASHPout.sum().sum()-ASHPin.sum().sum()))+(PVout.sum().sum()-ElecOut.sum().sum())+(STout.sum().sum()-HeatDump.sum().sum()))-(HeatDemand+ElecDemand)\n",
    "\n",
    "Data_frames[inde].loc[objective,'Natural gas']=NGOut.sum().sum()\n",
    "Data_frames[inde].loc[objective,'Oil']=OilOut.sum().sum()\n",
    "Data_frames[inde].loc[objective,'Electricity']=ElecIn.sum().sum()\n",
    "Data_frames[inde].loc[objective,'HP']=(GSHPout.sum().sum()-GSHPin.sum().sum())+(ASHPout.sum().sum()-ASHPin.sum().sum())\n",
    "Data_frames[inde].loc[objective,'PV']=PVout.sum().sum()-ElecOut.sum().sum()\n",
    "Data_frames[inde].loc[objective,'ST']=STout.sum().sum()-HeatDump.sum().sum()\n",
    "SelfSuff.loc[objective,inde]=((HeatDemand+ElecDemand)-(NGOut.sum().sum()+OilOut.sum().sum()+ElecIn.sum().sum()))/(HeatDemand+ElecDemand)"
   ]
  },
  {
   "cell_type": "code",
   "execution_count": 44,
   "metadata": {
    "collapsed": false
   },
   "outputs": [
    {
     "data": {
      "text/plain": [
       "11405426.537540494"
      ]
     },
     "execution_count": 44,
     "metadata": {},
     "output_type": "execute_result"
    }
   ],
   "source": [
    "inde='Building'\n",
    "objective=5\n",
    "nodes='Node99'\n",
    "root=r'/Users/portia_murray/Dropbox/PhD/ICAE data/'\n",
    "NGOut=pd.read_csv(root+inde+'/'+nodes+'_BoilOut0.csv')\n",
    "NGOut.drop(['Unnamed: 0'], axis=1,inplace=True)\n",
    "STout=pd.read_csv(root+inde+'/'+nodes+'_ROut1.csv')\n",
    "STout.drop(['Unnamed: 0'], axis=1,inplace=True)\n",
    "PVout=pd.read_csv(root+inde+'/'+nodes+'_ROut0.csv')\n",
    "PVout.drop(['Unnamed: 0'], axis=1,inplace=True)\n",
    "\n",
    "GSHPout=pd.read_csv(root+inde+'/'+nodes+'_HPOut0.csv')\n",
    "GSHPout.drop(['Unnamed: 0'], axis=1,inplace=True)\n",
    "ASHPout=pd.read_csv(root+inde+'/'+nodes+'_HPOut1.csv')\n",
    "ASHPout.drop(['Unnamed: 0'], axis=1,inplace=True)\n",
    "\n",
    "GSHPin=pd.read_csv(root+inde+'/'+nodes+'_HPIn0.csv')\n",
    "GSHPin.drop(['Unnamed: 0'], axis=1,inplace=True)\n",
    "ASHPin=pd.read_csv(root+inde+'/'+nodes+'_HPIn1.csv')\n",
    "ASHPin.drop(['Unnamed: 0'], axis=1,inplace=True)\n",
    "\n",
    "ElecOut=pd.read_csv(root+inde+'/'+nodes+'_ElecOut.csv')\n",
    "ElecOut.drop(['Unnamed: 0'], axis=1,inplace=True)\n",
    "\n",
    "HeatDump=pd.read_csv(root+inde+'/'+nodes+'_HeatDump.csv')\n",
    "HeatDump.drop(['Unnamed: 0'], axis=1,inplace=True)\n",
    "ElecIn=pd.read_csv(root+inde+'/'+nodes+'_ElecIn.csv')\n",
    "ElecIn.drop(['Unnamed: 0'], axis=1,inplace=True)\n",
    "OilOut=pd.read_csv(root+inde+'/'+nodes+'_BoilOut1.csv')\n",
    "OilOut.drop(['Unnamed: 0'], axis=1,inplace=True)\n",
    "extra=(NGOut.sum().sum()+OilOut.sum().sum()+ElecIn.sum().sum()+((GSHPout.sum().sum()-GSHPin.sum().sum())+(ASHPout.sum().sum()-ASHPin.sum().sum()))+(PVout.sum().sum()-ElecOut.sum().sum())+(STout.sum().sum()-HeatDump.sum().sum()))-(HeatDemand+ElecDemand)\n",
    "Data_frames[inde].loc[objective,'Natural gas']=NGOut.sum().sum()\n",
    "Data_frames[inde].loc[objective,'Oil']=OilOut.sum().sum()\n",
    "Data_frames[inde].loc[objective,'Electricity']=ElecIn.sum().sum()\n",
    "Data_frames[inde].loc[objective,'HP']=(GSHPout.sum().sum()-GSHPin.sum().sum())+(ASHPout.sum().sum()-ASHPin.sum().sum())-extra\n",
    "Data_frames[inde].loc[objective,'PV']=PVout.sum().sum()-ElecOut.sum().sum()\n",
    "Data_frames[inde].loc[objective,'ST']=STout.sum().sum()-HeatDump.sum().sum()\n",
    "SelfSuff.loc[objective,inde]=((HeatDemand+ElecDemand)-(NGOut.sum().sum()+OilOut.sum().sum()+ElecIn.sum().sum()))/(HeatDemand+ElecDemand)\n",
    "Data_frames[inde].loc[objective,'HP']"
   ]
  },
  {
   "cell_type": "code",
   "execution_count": 47,
   "metadata": {
    "collapsed": false
   },
   "outputs": [],
   "source": [
    "#Data_frames['Building']=Data_frames['Building']/1E6\n",
    "Data_frames['Building'].loc[2,'ST']=0"
   ]
  },
  {
   "cell_type": "code",
   "execution_count": 48,
   "metadata": {
    "collapsed": false
   },
   "outputs": [
    {
     "data": {
      "text/plain": [
       "Text(0,0.5,'Energy Demand (GWh)')"
      ]
     },
     "execution_count": 48,
     "metadata": {},
     "output_type": "execute_result"
    },
    {
     "data": {
      "image/png": "[encoded data removed]",
      "text/plain": [
       "<Figure size 216x216 with 1 Axes>"
      ]
     },
     "metadata": {},
     "output_type": "display_data"
    }
   ],
   "source": [
    "ax=Data_frames['Building'].plot(kind='area',color=['purple','blue','grey','red','yellow','orange'],figsize=(3,3))\n",
    "ax.legend(loc=[1.01,0.2])\n",
    "ax.set_xticks([1,2,3,4,5])\n",
    "ax.set_ylabel('Energy Demand (GWh)')\n",
    "#ax.title('Individual buildings')"
   ]
  },
  {
   "cell_type": "code",
   "execution_count": 49,
   "metadata": {
    "collapsed": false
   },
   "outputs": [],
   "source": [
    "Data_frames['Neigh']=pd.DataFrame(index=range(1,6),columns=['Electricity','Natural gas','Oil','HP','PV','ST'])"
   ]
  },
  {
   "cell_type": "code",
   "execution_count": 50,
   "metadata": {
    "collapsed": false
   },
   "outputs": [
    {
     "data": {
      "text/plain": [
       "511193.0314701535"
      ]
     },
     "execution_count": 50,
     "metadata": {},
     "output_type": "execute_result"
    }
   ],
   "source": [
    "inde='Neigh'\n",
    "objective=1\n",
    "nodes='NCost'\n",
    "Nheat=18229982\n",
    "root=r'/Users/portia_murray/Dropbox/PhD/ICAE data/'\n",
    "NGOut=pd.read_csv(root+inde+'/'+nodes+'_BoilOut0.csv')\n",
    "NGOut.drop(['Unnamed: 0'], axis=1,inplace=True)\n",
    "STout=pd.read_csv(root+inde+'/'+nodes+'_ROut1.csv')\n",
    "STout.drop(['Unnamed: 0'], axis=1,inplace=True)\n",
    "PVout=pd.read_csv(root+inde+'/'+nodes+'_ROut0.csv')\n",
    "PVout.drop(['Unnamed: 0'], axis=1,inplace=True)\n",
    "\n",
    "GSHPout=pd.read_csv(root+inde+'/'+nodes+'_HPOut0.csv')\n",
    "GSHPout.drop(['Unnamed: 0'], axis=1,inplace=True)\n",
    "ASHPout=pd.read_csv(root+inde+'/'+nodes+'_HPOut1.csv')\n",
    "ASHPout.drop(['Unnamed: 0'], axis=1,inplace=True)\n",
    "\n",
    "GSHPin=pd.read_csv(root+inde+'/'+nodes+'_HPIn0.csv')\n",
    "GSHPin.drop(['Unnamed: 0'], axis=1,inplace=True)\n",
    "ASHPin=pd.read_csv(root+inde+'/'+nodes+'_HPIn1.csv')\n",
    "ASHPin.drop(['Unnamed: 0'], axis=1,inplace=True)\n",
    "DHPump=pd.read_csv(root+inde+'/'+nodes+'_DHPump.csv')\n",
    "DHPump.drop(['Unnamed: 0'], axis=1,inplace=True)\n",
    "\n",
    "ElecOut=pd.read_csv(root+inde+'/'+nodes+'_ElecOut.csv')\n",
    "ElecOut.drop(['Unnamed: 0'], axis=1,inplace=True)\n",
    "\n",
    "HeatDump=pd.read_csv(root+inde+'/'+nodes+'_HeatDump.csv')\n",
    "HeatDump.drop(['Unnamed: 0'], axis=1,inplace=True)\n",
    "ElecIn=pd.read_csv(root+inde+'/'+nodes+'_ElecIn.csv')\n",
    "ElecIn.drop(['Unnamed: 0'], axis=1,inplace=True)\n",
    "OilOut=pd.read_csv(root+inde+'/'+nodes+'_BoilOut1.csv')\n",
    "OilOut.drop(['Unnamed: 0'], axis=1,inplace=True)\n",
    "extra=(NGOut.sum().sum()+OilOut.sum().sum()+ElecIn.sum().sum()+((GSHPout.sum().sum()-GSHPin.sum().sum())+(ASHPout.sum().sum()-ASHPin.sum().sum()))+(PVout.sum().sum()-ElecOut.sum().sum())+(STout.sum().sum()-HeatDump.sum().sum()))-(HeatDemand+ElecDemand)\n",
    "Data_frames[inde].loc[objective,'Natural gas']=NGOut.sum().sum()\n",
    "Data_frames[inde].loc[objective,'Oil']=OilOut.sum().sum()-extra\n",
    "Data_frames[inde].loc[objective,'Electricity']=ElecIn.sum().sum()\n",
    "Data_frames[inde].loc[objective,'HP']=(GSHPout.sum().sum()-GSHPin.sum().sum())+(ASHPout.sum().sum()-ASHPin.sum().sum())\n",
    "Data_frames[inde].loc[objective,'PV']=PVout.sum().sum()-ElecOut.sum().sum()\n",
    "Data_frames[inde].loc[objective,'ST']=STout.sum().sum()-HeatDump.sum().sum()\n",
    "SelfSuff.loc[objective,inde]=((HeatDemand+ElecDemand)-(NGOut.sum().sum()+OilOut.sum().sum()+ElecIn.sum().sum()))/(HeatDemand+ElecDemand)\n",
    "extra"
   ]
  },
  {
   "cell_type": "code",
   "execution_count": 10,
   "metadata": {
    "collapsed": false
   },
   "outputs": [
    {
     "data": {
      "text/plain": [
       "1    2.779329e+07\n",
       "2             NaN\n",
       "3             NaN\n",
       "4             NaN\n",
       "5             NaN\n",
       "dtype: float64"
      ]
     },
     "execution_count": 10,
     "metadata": {},
     "output_type": "execute_result"
    }
   ],
   "source": [
    "Data_frames[inde].sum(axis=1)"
   ]
  },
  {
   "cell_type": "code",
   "execution_count": null,
   "metadata": {
    "collapsed": false
   },
   "outputs": [],
   "source": []
  },
  {
   "cell_type": "code",
   "execution_count": 51,
   "metadata": {
    "collapsed": false
   },
   "outputs": [
    {
     "data": {
      "text/plain": [
       "631592.0626447126"
      ]
     },
     "execution_count": 51,
     "metadata": {},
     "output_type": "execute_result"
    }
   ],
   "source": [
    "inde='Neigh'\n",
    "objective=2\n",
    "nodes='NNode25'\n",
    "root=r'/Users/portia_murray/Dropbox/PhD/ICAE data/'\n",
    "NGOut=pd.read_csv(root+inde+'/'+nodes+'_BoilOut0.csv')\n",
    "NGOut.drop(['Unnamed: 0'], axis=1,inplace=True)\n",
    "STout=pd.read_csv(root+inde+'/'+nodes+'_ROut1.csv')\n",
    "STout.drop(['Unnamed: 0'], axis=1,inplace=True)\n",
    "PVout=pd.read_csv(root+inde+'/'+nodes+'_ROut0.csv')\n",
    "PVout.drop(['Unnamed: 0'], axis=1,inplace=True)\n",
    "\n",
    "GSHPout=pd.read_csv(root+inde+'/'+nodes+'_HPOut0.csv')\n",
    "GSHPout.drop(['Unnamed: 0'], axis=1,inplace=True)\n",
    "ASHPout=pd.read_csv(root+inde+'/'+nodes+'_HPOut1.csv')\n",
    "ASHPout.drop(['Unnamed: 0'], axis=1,inplace=True)\n",
    "\n",
    "GSHPin=pd.read_csv(root+inde+'/'+nodes+'_HPIn0.csv')\n",
    "GSHPin.drop(['Unnamed: 0'], axis=1,inplace=True)\n",
    "ASHPin=pd.read_csv(root+inde+'/'+nodes+'_HPIn1.csv')\n",
    "ASHPin.drop(['Unnamed: 0'], axis=1,inplace=True)\n",
    "\n",
    "ElecOut=pd.read_csv(root+inde+'/'+nodes+'_ElecOut.csv')\n",
    "ElecOut.drop(['Unnamed: 0'], axis=1,inplace=True)\n",
    "\n",
    "HeatDump=pd.read_csv(root+inde+'/'+nodes+'_HeatDump.csv')\n",
    "HeatDump.drop(['Unnamed: 0'], axis=1,inplace=True)\n",
    "ElecIn=pd.read_csv(root+inde+'/'+nodes+'_ElecIn.csv')\n",
    "ElecIn.drop(['Unnamed: 0'], axis=1,inplace=True)\n",
    "OilOut=pd.read_csv(root+inde+'/'+nodes+'_BoilOut1.csv')\n",
    "OilOut.drop(['Unnamed: 0'], axis=1,inplace=True)\n",
    "extra=(NGOut.sum().sum()+OilOut.sum().sum()+ElecIn.sum().sum()+((GSHPout.sum().sum()-GSHPin.sum().sum())+(ASHPout.sum().sum()-ASHPin.sum().sum()))+(PVout.sum().sum()-ElecOut.sum().sum())+(STout.sum().sum()-HeatDump.sum().sum()))-(HeatDemand+ElecDemand)\n",
    "Data_frames[inde].loc[objective,'Natural gas']=NGOut.sum().sum()\n",
    "Data_frames[inde].loc[objective,'Oil']=OilOut.sum().sum()\n",
    "Data_frames[inde].loc[objective,'Electricity']=ElecIn.sum().sum()\n",
    "Data_frames[inde].loc[objective,'HP']=(GSHPout.sum().sum()-GSHPin.sum().sum())+(ASHPout.sum().sum()-ASHPin.sum().sum())-extra\n",
    "Data_frames[inde].loc[objective,'PV']=PVout.sum().sum()-ElecOut.sum().sum()\n",
    "Data_frames[inde].loc[objective,'ST']=STout.sum().sum()-HeatDump.sum().sum()\n",
    "SelfSuff.loc[objective,inde]=((HeatDemand+ElecDemand)-(NGOut.sum().sum()+OilOut.sum().sum()+ElecIn.sum().sum()))/(HeatDemand+ElecDemand)\n",
    "extra"
   ]
  },
  {
   "cell_type": "code",
   "execution_count": null,
   "metadata": {
    "collapsed": true
   },
   "outputs": [],
   "source": []
  },
  {
   "cell_type": "code",
   "execution_count": 52,
   "metadata": {
    "collapsed": false
   },
   "outputs": [
    {
     "data": {
      "text/html": [
       "<div>\n",
       "<style>\n",
       "    .dataframe thead tr:only-child th {\n",
       "        text-align: right;\n",
       "    }\n",
       "\n",
       "    .dataframe thead th {\n",
       "        text-align: left;\n",
       "    }\n",
       "\n",
       "    .dataframe tbody tr th {\n",
       "        vertical-align: top;\n",
       "    }\n",
       "</style>\n",
       "<table border=\"1\" class=\"dataframe\">\n",
       "  <thead>\n",
       "    <tr style=\"text-align: right;\">\n",
       "      <th></th>\n",
       "      <th>Electricity</th>\n",
       "      <th>Natural gas</th>\n",
       "      <th>Oil</th>\n",
       "      <th>HP</th>\n",
       "      <th>PV</th>\n",
       "      <th>ST</th>\n",
       "    </tr>\n",
       "  </thead>\n",
       "  <tbody>\n",
       "    <tr>\n",
       "      <th>1</th>\n",
       "      <td>8.30347e+06</td>\n",
       "      <td>0</td>\n",
       "      <td>1.77675e+07</td>\n",
       "      <td>7202.65</td>\n",
       "      <td>1.71516e+06</td>\n",
       "      <td>5.32286e-14</td>\n",
       "    </tr>\n",
       "    <tr>\n",
       "      <th>2</th>\n",
       "      <td>9.50258e+06</td>\n",
       "      <td>1.85002e-10</td>\n",
       "      <td>1.38647e+07</td>\n",
       "      <td>2.5371e+06</td>\n",
       "      <td>1.88894e+06</td>\n",
       "      <td>-9.3568e-13</td>\n",
       "    </tr>\n",
       "    <tr>\n",
       "      <th>3</th>\n",
       "      <td>1.10919e+07</td>\n",
       "      <td>400667</td>\n",
       "      <td>8.99087e+06</td>\n",
       "      <td>5.40006e+06</td>\n",
       "      <td>1.90982e+06</td>\n",
       "      <td>-4.12353e-11</td>\n",
       "    </tr>\n",
       "    <tr>\n",
       "      <th>4</th>\n",
       "      <td>NaN</td>\n",
       "      <td>NaN</td>\n",
       "      <td>NaN</td>\n",
       "      <td>NaN</td>\n",
       "      <td>NaN</td>\n",
       "      <td>NaN</td>\n",
       "    </tr>\n",
       "    <tr>\n",
       "      <th>5</th>\n",
       "      <td>NaN</td>\n",
       "      <td>NaN</td>\n",
       "      <td>NaN</td>\n",
       "      <td>NaN</td>\n",
       "      <td>NaN</td>\n",
       "      <td>NaN</td>\n",
       "    </tr>\n",
       "  </tbody>\n",
       "</table>\n",
       "</div>"
      ],
      "text/plain": [
       "   Electricity  Natural gas          Oil           HP           PV  \\\n",
       "1  8.30347e+06            0  1.77675e+07      7202.65  1.71516e+06   \n",
       "2  9.50258e+06  1.85002e-10  1.38647e+07   2.5371e+06  1.88894e+06   \n",
       "3  1.10919e+07       400667  8.99087e+06  5.40006e+06  1.90982e+06   \n",
       "4          NaN          NaN          NaN          NaN          NaN   \n",
       "5          NaN          NaN          NaN          NaN          NaN   \n",
       "\n",
       "            ST  \n",
       "1  5.32286e-14  \n",
       "2  -9.3568e-13  \n",
       "3 -4.12353e-11  \n",
       "4          NaN  \n",
       "5          NaN  "
      ]
     },
     "execution_count": 52,
     "metadata": {},
     "output_type": "execute_result"
    }
   ],
   "source": [
    "inde='Neigh'\n",
    "objective=3\n",
    "nodes='NNode50'\n",
    "root=r'/Users/portia_murray/Dropbox/PhD/ICAE data/'\n",
    "NGOut=pd.read_csv(root+inde+'/'+nodes+'_BoilOut0.csv')\n",
    "NGOut.drop(['Unnamed: 0'], axis=1,inplace=True)\n",
    "STout=pd.read_csv(root+inde+'/'+nodes+'_ROut1.csv')\n",
    "STout.drop(['Unnamed: 0'], axis=1,inplace=True)\n",
    "PVout=pd.read_csv(root+inde+'/'+nodes+'_ROut0.csv')\n",
    "PVout.drop(['Unnamed: 0'], axis=1,inplace=True)\n",
    "\n",
    "GSHPout=pd.read_csv(root+inde+'/'+nodes+'_HPOut0.csv')\n",
    "GSHPout.drop(['Unnamed: 0'], axis=1,inplace=True)\n",
    "ASHPout=pd.read_csv(root+inde+'/'+nodes+'_HPOut1.csv')\n",
    "ASHPout.drop(['Unnamed: 0'], axis=1,inplace=True)\n",
    "\n",
    "GSHPin=pd.read_csv(root+inde+'/'+nodes+'_HPIn0.csv')\n",
    "GSHPin.drop(['Unnamed: 0'], axis=1,inplace=True)\n",
    "ASHPin=pd.read_csv(root+inde+'/'+nodes+'_HPIn1.csv')\n",
    "ASHPin.drop(['Unnamed: 0'], axis=1,inplace=True)\n",
    "\n",
    "ElecOut=pd.read_csv(root+inde+'/'+nodes+'_ElecOut.csv')\n",
    "ElecOut.drop(['Unnamed: 0'], axis=1,inplace=True)\n",
    "\n",
    "HeatDump=pd.read_csv(root+inde+'/'+nodes+'_HeatDump.csv')\n",
    "HeatDump.drop(['Unnamed: 0'], axis=1,inplace=True)\n",
    "ElecIn=pd.read_csv(root+inde+'/'+nodes+'_ElecIn.csv')\n",
    "ElecIn.drop(['Unnamed: 0'], axis=1,inplace=True)\n",
    "OilOut=pd.read_csv(root+inde+'/'+nodes+'_BoilOut1.csv')\n",
    "OilOut.drop(['Unnamed: 0'], axis=1,inplace=True)\n",
    "extra=(NGOut.sum().sum()+OilOut.sum().sum()+ElecIn.sum().sum()+((GSHPout.sum().sum()-GSHPin.sum().sum())+(ASHPout.sum().sum()-ASHPin.sum().sum()))+(PVout.sum().sum()-ElecOut.sum().sum())+(STout.sum().sum()-HeatDump.sum().sum()))-(HeatDemand+ElecDemand)\n",
    "Data_frames[inde].loc[objective,'Natural gas']=NGOut.sum().sum()\n",
    "Data_frames[inde].loc[objective,'Oil']=OilOut.sum().sum()\n",
    "Data_frames[inde].loc[objective,'Electricity']=ElecIn.sum().sum()\n",
    "Data_frames[inde].loc[objective,'HP']=(GSHPout.sum().sum()-GSHPin.sum().sum())+(ASHPout.sum().sum()-ASHPin.sum().sum())-extra\n",
    "Data_frames[inde].loc[objective,'PV']=PVout.sum().sum()-ElecOut.sum().sum()\n",
    "Data_frames[inde].loc[objective,'ST']=STout.sum().sum()-HeatDump.sum().sum()\n",
    "SelfSuff.loc[objective,inde]=((HeatDemand+ElecDemand)-(NGOut.sum().sum()+OilOut.sum().sum()+ElecIn.sum().sum()))/(HeatDemand+ElecDemand)\n",
    "Data_frames[inde]"
   ]
  },
  {
   "cell_type": "code",
   "execution_count": 13,
   "metadata": {
    "collapsed": false
   },
   "outputs": [
    {
     "data": {
      "text/plain": [
       "787738.8738458753"
      ]
     },
     "execution_count": 13,
     "metadata": {},
     "output_type": "execute_result"
    }
   ],
   "source": [
    "extra"
   ]
  },
  {
   "cell_type": "code",
   "execution_count": 53,
   "metadata": {
    "collapsed": false
   },
   "outputs": [
    {
     "data": {
      "text/plain": [
       "995841.3921275213"
      ]
     },
     "execution_count": 53,
     "metadata": {},
     "output_type": "execute_result"
    }
   ],
   "source": [
    "inde='Neigh'\n",
    "objective=4\n",
    "nodes='NNode75'\n",
    "root=r'/Users/portia_murray/Dropbox/PhD/ICAE data/'\n",
    "NGOut=pd.read_csv(root+inde+'/'+nodes+'_BoilOut0.csv')\n",
    "NGOut.drop(['Unnamed: 0'], axis=1,inplace=True)\n",
    "STout=pd.read_csv(root+inde+'/'+nodes+'_ROut1.csv')\n",
    "STout.drop(['Unnamed: 0'], axis=1,inplace=True)\n",
    "PVout=pd.read_csv(root+inde+'/'+nodes+'_ROut0.csv')\n",
    "PVout.drop(['Unnamed: 0'], axis=1,inplace=True)\n",
    "\n",
    "GSHPout=pd.read_csv(root+inde+'/'+nodes+'_HPOut0.csv')\n",
    "GSHPout.drop(['Unnamed: 0'], axis=1,inplace=True)\n",
    "ASHPout=pd.read_csv(root+inde+'/'+nodes+'_HPOut1.csv')\n",
    "ASHPout.drop(['Unnamed: 0'], axis=1,inplace=True)\n",
    "\n",
    "GSHPin=pd.read_csv(root+inde+'/'+nodes+'_HPIn0.csv')\n",
    "GSHPin.drop(['Unnamed: 0'], axis=1,inplace=True)\n",
    "ASHPin=pd.read_csv(root+inde+'/'+nodes+'_HPIn1.csv')\n",
    "ASHPin.drop(['Unnamed: 0'], axis=1,inplace=True)\n",
    "\n",
    "ElecOut=pd.read_csv(root+inde+'/'+nodes+'_ElecOut.csv')\n",
    "ElecOut.drop(['Unnamed: 0'], axis=1,inplace=True)\n",
    "\n",
    "HeatDump=pd.read_csv(root+inde+'/'+nodes+'_HeatDump.csv')\n",
    "HeatDump.drop(['Unnamed: 0'], axis=1,inplace=True)\n",
    "ElecIn=pd.read_csv(root+inde+'/'+nodes+'_ElecIn.csv')\n",
    "ElecIn.drop(['Unnamed: 0'], axis=1,inplace=True)\n",
    "OilOut=pd.read_csv(root+inde+'/'+nodes+'_BoilOut1.csv')\n",
    "OilOut.drop(['Unnamed: 0'], axis=1,inplace=True)\n",
    "extra=(NGOut.sum().sum()+OilOut.sum().sum()+ElecIn.sum().sum()+((GSHPout.sum().sum()-GSHPin.sum().sum())+(ASHPout.sum().sum()-ASHPin.sum().sum()))+(PVout.sum().sum()-ElecOut.sum().sum())+(STout.sum().sum()-HeatDump.sum().sum()))-(HeatDemand+ElecDemand)\n",
    "Data_frames[inde].loc[objective,'Natural gas']=NGOut.sum().sum()\n",
    "Data_frames[inde].loc[objective,'Oil']=OilOut.sum().sum()\n",
    "Data_frames[inde].loc[objective,'Electricity']=ElecIn.sum().sum()\n",
    "Data_frames[inde].loc[objective,'HP']=(GSHPout.sum().sum()-GSHPin.sum().sum())+(ASHPout.sum().sum()-ASHPin.sum().sum())-extra\n",
    "Data_frames[inde].loc[objective,'PV']=PVout.sum().sum()-ElecOut.sum().sum()\n",
    "Data_frames[inde].loc[objective,'ST']=STout.sum().sum()-HeatDump.sum().sum()\n",
    "SelfSuff.loc[objective,inde]=((HeatDemand+ElecDemand)-(NGOut.sum().sum()+OilOut.sum().sum()+ElecIn.sum().sum()))/(HeatDemand+ElecDemand)\n",
    "extra"
   ]
  },
  {
   "cell_type": "code",
   "execution_count": 54,
   "metadata": {
    "collapsed": false
   },
   "outputs": [
    {
     "data": {
      "text/plain": [
       "1654061.073425185"
      ]
     },
     "execution_count": 54,
     "metadata": {},
     "output_type": "execute_result"
    }
   ],
   "source": [
    "inde='Neigh'\n",
    "objective=5\n",
    "nodes='NNode995'\n",
    "root=r'/Users/portia_murray/Dropbox/PhD/ICAE data/'\n",
    "NGOut=pd.read_csv(root+inde+'/'+nodes+'_BoilOut0.csv')\n",
    "NGOut.drop(['Unnamed: 0'], axis=1,inplace=True)\n",
    "STout=pd.read_csv(root+inde+'/'+nodes+'_ROut1.csv')\n",
    "STout.drop(['Unnamed: 0'], axis=1,inplace=True)\n",
    "PVout=pd.read_csv(root+inde+'/'+nodes+'_ROut0.csv')\n",
    "PVout.drop(['Unnamed: 0'], axis=1,inplace=True)\n",
    "\n",
    "GSHPout=pd.read_csv(root+inde+'/'+nodes+'_HPOut0.csv')\n",
    "GSHPout.drop(['Unnamed: 0'], axis=1,inplace=True)\n",
    "ASHPout=pd.read_csv(root+inde+'/'+nodes+'_HPOut1.csv')\n",
    "ASHPout.drop(['Unnamed: 0'], axis=1,inplace=True)\n",
    "\n",
    "GSHPin=pd.read_csv(root+inde+'/'+nodes+'_HPIn0.csv')\n",
    "GSHPin.drop(['Unnamed: 0'], axis=1,inplace=True)\n",
    "ASHPin=pd.read_csv(root+inde+'/'+nodes+'_HPIn1.csv')\n",
    "ASHPin.drop(['Unnamed: 0'], axis=1,inplace=True)\n",
    "\n",
    "ElecOut=pd.read_csv(root+inde+'/'+nodes+'_ElecOut.csv')\n",
    "ElecOut.drop(['Unnamed: 0'], axis=1,inplace=True)\n",
    "\n",
    "HeatDump=pd.read_csv(root+inde+'/'+nodes+'_HeatDump.csv')\n",
    "HeatDump.drop(['Unnamed: 0'], axis=1,inplace=True)\n",
    "ElecIn=pd.read_csv(root+inde+'/'+nodes+'_ElecIn.csv')\n",
    "ElecIn.drop(['Unnamed: 0'], axis=1,inplace=True)\n",
    "OilOut=pd.read_csv(root+inde+'/'+nodes+'_BoilOut1.csv')\n",
    "OilOut.drop(['Unnamed: 0'], axis=1,inplace=True)\n",
    "extra=(NGOut.sum().sum()+OilOut.sum().sum()+ElecIn.sum().sum()+(GSHPout.sum().sum()-GSHPin.sum().sum())+(ASHPout.sum().sum()-ASHPin.sum().sum())+(PVout.sum().sum()-ElecOut.sum().sum())+(STout.sum().sum()-HeatDump.sum().sum()))-(HeatDemand+ElecDemand)\n",
    "Data_frames[inde].loc[objective,'Natural gas']=NGOut.sum().sum()\n",
    "Data_frames[inde].loc[objective,'Oil']=OilOut.sum().sum()\n",
    "Data_frames[inde].loc[objective,'Electricity']=ElecIn.sum().sum()\n",
    "Data_frames[inde].loc[objective,'HP']=(GSHPout.sum().sum()-GSHPin.sum().sum())+(ASHPout.sum().sum()-ASHPin.sum().sum())-extra\n",
    "Data_frames[inde].loc[objective,'PV']=PVout.sum().sum()-ElecOut.sum().sum()\n",
    "Data_frames[inde].loc[objective,'ST']=STout.sum().sum()-HeatDump.sum().sum()\n",
    "SelfSuff.loc[objective,inde]=((HeatDemand+ElecDemand)-(NGOut.sum().sum()+OilOut.sum().sum()+ElecIn.sum().sum()))/(HeatDemand+ElecDemand)\n",
    "extra"
   ]
  },
  {
   "cell_type": "code",
   "execution_count": 59,
   "metadata": {
    "collapsed": false
   },
   "outputs": [
    {
     "data": {
      "text/html": [
       "<div>\n",
       "<style>\n",
       "    .dataframe thead tr:only-child th {\n",
       "        text-align: right;\n",
       "    }\n",
       "\n",
       "    .dataframe thead th {\n",
       "        text-align: left;\n",
       "    }\n",
       "\n",
       "    .dataframe tbody tr th {\n",
       "        vertical-align: top;\n",
       "    }\n",
       "</style>\n",
       "<table border=\"1\" class=\"dataframe\">\n",
       "  <thead>\n",
       "    <tr style=\"text-align: right;\">\n",
       "      <th></th>\n",
       "      <th>Electricity</th>\n",
       "      <th>Natural gas</th>\n",
       "      <th>Oil</th>\n",
       "      <th>HP</th>\n",
       "      <th>PV</th>\n",
       "      <th>ST</th>\n",
       "    </tr>\n",
       "  </thead>\n",
       "  <tbody>\n",
       "    <tr>\n",
       "      <th>1</th>\n",
       "      <td>8.30347e+06</td>\n",
       "      <td>0</td>\n",
       "      <td>1.77675e+07</td>\n",
       "      <td>7202.65</td>\n",
       "      <td>1.71516e+06</td>\n",
       "      <td>5.32286e-14</td>\n",
       "    </tr>\n",
       "    <tr>\n",
       "      <th>2</th>\n",
       "      <td>9.50258e+06</td>\n",
       "      <td>1.85002e-10</td>\n",
       "      <td>1.38647e+07</td>\n",
       "      <td>2.5371e+06</td>\n",
       "      <td>1.88894e+06</td>\n",
       "      <td>0</td>\n",
       "    </tr>\n",
       "    <tr>\n",
       "      <th>3</th>\n",
       "      <td>1.10919e+07</td>\n",
       "      <td>400667</td>\n",
       "      <td>8.99087e+06</td>\n",
       "      <td>5.40006e+06</td>\n",
       "      <td>1.90982e+06</td>\n",
       "      <td>0</td>\n",
       "    </tr>\n",
       "    <tr>\n",
       "      <th>4</th>\n",
       "      <td>1.30888e+07</td>\n",
       "      <td>201619</td>\n",
       "      <td>4.47477e+06</td>\n",
       "      <td>8.1028e+06</td>\n",
       "      <td>1.92525e+06</td>\n",
       "      <td>0</td>\n",
       "    </tr>\n",
       "    <tr>\n",
       "      <th>5</th>\n",
       "      <td>1.47223e+07</td>\n",
       "      <td>28703.9</td>\n",
       "      <td>42607.6</td>\n",
       "      <td>1.05054e+07</td>\n",
       "      <td>2.48409e+06</td>\n",
       "      <td>10170.6</td>\n",
       "    </tr>\n",
       "  </tbody>\n",
       "</table>\n",
       "</div>"
      ],
      "text/plain": [
       "   Electricity  Natural gas          Oil           HP           PV  \\\n",
       "1  8.30347e+06            0  1.77675e+07      7202.65  1.71516e+06   \n",
       "2  9.50258e+06  1.85002e-10  1.38647e+07   2.5371e+06  1.88894e+06   \n",
       "3  1.10919e+07       400667  8.99087e+06  5.40006e+06  1.90982e+06   \n",
       "4  1.30888e+07       201619  4.47477e+06   8.1028e+06  1.92525e+06   \n",
       "5  1.47223e+07      28703.9      42607.6  1.05054e+07  2.48409e+06   \n",
       "\n",
       "            ST  \n",
       "1  5.32286e-14  \n",
       "2            0  \n",
       "3            0  \n",
       "4            0  \n",
       "5      10170.6  "
      ]
     },
     "execution_count": 59,
     "metadata": {},
     "output_type": "execute_result"
    }
   ],
   "source": [
    "Data_frames['Neigh']"
   ]
  },
  {
   "cell_type": "code",
   "execution_count": 60,
   "metadata": {
    "collapsed": false
   },
   "outputs": [],
   "source": [
    "Data_frames['Community']=pd.DataFrame(index=range(1,6),columns=['Electricity','Natural gas','Oil','HP','PV','ST'])"
   ]
  },
  {
   "cell_type": "code",
   "execution_count": 61,
   "metadata": {
    "collapsed": false
   },
   "outputs": [
    {
     "data": {
      "text/plain": [
       "-1.0158320327504507e-13"
      ]
     },
     "execution_count": 61,
     "metadata": {},
     "output_type": "execute_result"
    }
   ],
   "source": [
    "inde='Community'\n",
    "objective=1\n",
    "nodes='CCost'\n",
    "root=r'/Users/portia_murray/Dropbox/PhD/ICAE data/'\n",
    "NGOut=pd.read_csv(root+inde+'/'+nodes+'_BoilOut0.csv')\n",
    "NGOut.drop(['Unnamed: 0'], axis=1,inplace=True)\n",
    "STout=pd.read_csv(root+inde+'/'+nodes+'_ROut1.csv')\n",
    "STout.drop(['Unnamed: 0'], axis=1,inplace=True)\n",
    "PVout=pd.read_csv(root+inde+'/'+nodes+'_ROut0.csv')\n",
    "PVout.drop(['Unnamed: 0'], axis=1,inplace=True)\n",
    "\n",
    "GSHPout=pd.read_csv(root+inde+'/'+nodes+'_HPOut0.csv')\n",
    "GSHPout.drop(['Unnamed: 0'], axis=1,inplace=True)\n",
    "ASHPout=pd.read_csv(root+inde+'/'+nodes+'_HPOut1.csv')\n",
    "ASHPout.drop(['Unnamed: 0'], axis=1,inplace=True)\n",
    "\n",
    "GSHPin=pd.read_csv(root+inde+'/'+nodes+'_HPIn0.csv')\n",
    "GSHPin.drop(['Unnamed: 0'], axis=1,inplace=True)\n",
    "ASHPin=pd.read_csv(root+inde+'/'+nodes+'_HPIn1.csv')\n",
    "ASHPin.drop(['Unnamed: 0'], axis=1,inplace=True)\n",
    "\n",
    "ElecOut=pd.read_csv(root+inde+'/'+nodes+'_ElecOut.csv')\n",
    "ElecOut.drop(['Unnamed: 0'], axis=1,inplace=True)\n",
    "\n",
    "HeatDump=pd.read_csv(root+inde+'/'+nodes+'_HeatDump.csv')\n",
    "HeatDump.drop(['Unnamed: 0'], axis=1,inplace=True)\n",
    "ElecIn=pd.read_csv(root+inde+'/'+nodes+'_ElecIn.csv')\n",
    "ElecIn.drop(['Unnamed: 0'], axis=1,inplace=True)\n",
    "OilOut=pd.read_csv(root+inde+'/'+nodes+'_BoilOut1.csv')\n",
    "OilOut.drop(['Unnamed: 0'], axis=1,inplace=True)\n",
    "extra=(NGOut.sum().sum()+OilOut.sum().sum()+ElecIn.sum().sum()+(GSHPout.sum().sum()-GSHPin.sum().sum())+(ASHPout.sum().sum()-ASHPin.sum().sum())+(PVout.sum().sum()-ElecOut.sum().sum())+(STout.sum().sum()-HeatDump.sum().sum()))-(HeatDemand+ElecDemand)\n",
    "Data_frames[inde].loc[objective,'Natural gas']=NGOut.sum().sum()\n",
    "Data_frames[inde].loc[objective,'Oil']=OilOut.sum().sum()-extra\n",
    "Data_frames[inde].loc[objective,'Electricity']=ElecIn.sum().sum()\n",
    "Data_frames[inde].loc[objective,'HP']=(GSHPout.sum().sum()-GSHPin.sum().sum())+(ASHPout.sum().sum()-ASHPin.sum().sum())\n",
    "Data_frames[inde].loc[objective,'PV']=PVout.sum().sum()-ElecOut.sum().sum()\n",
    "Data_frames[inde].loc[objective,'ST']=STout.sum().sum()-HeatDump.sum().sum()\n",
    "SelfSuff.loc[objective,inde]=((HeatDemand+ElecDemand)-(NGOut.sum().sum()+OilOut.sum().sum()+ElecIn.sum().sum()))/(HeatDemand+ElecDemand)\n",
    "HeatDump.sum().sum()"
   ]
  },
  {
   "cell_type": "code",
   "execution_count": 62,
   "metadata": {
    "collapsed": false
   },
   "outputs": [
    {
     "data": {
      "text/plain": [
       "775337.0610589124"
      ]
     },
     "execution_count": 62,
     "metadata": {},
     "output_type": "execute_result"
    }
   ],
   "source": [
    "inde='Community'\n",
    "objective=2\n",
    "nodes='CNode25'\n",
    "root=r'/Users/portia_murray/Dropbox/PhD/ICAE data/'\n",
    "NGOut=pd.read_csv(root+inde+'/'+nodes+'_BoilOut0.csv')\n",
    "NGOut.drop(['Unnamed: 0'], axis=1,inplace=True)\n",
    "STout=pd.read_csv(root+inde+'/'+nodes+'_ROut1.csv')\n",
    "STout.drop(['Unnamed: 0'], axis=1,inplace=True)\n",
    "PVout=pd.read_csv(root+inde+'/'+nodes+'_ROut0.csv')\n",
    "PVout.drop(['Unnamed: 0'], axis=1,inplace=True)\n",
    "\n",
    "GSHPout=pd.read_csv(root+inde+'/'+nodes+'_HPOut0.csv')\n",
    "GSHPout.drop(['Unnamed: 0'], axis=1,inplace=True)\n",
    "ASHPout=pd.read_csv(root+inde+'/'+nodes+'_HPOut1.csv')\n",
    "ASHPout.drop(['Unnamed: 0'], axis=1,inplace=True)\n",
    "\n",
    "GSHPin=pd.read_csv(root+inde+'/'+nodes+'_HPIn0.csv')\n",
    "GSHPin.drop(['Unnamed: 0'], axis=1,inplace=True)\n",
    "ASHPin=pd.read_csv(root+inde+'/'+nodes+'_HPIn1.csv')\n",
    "ASHPin.drop(['Unnamed: 0'], axis=1,inplace=True)\n",
    "\n",
    "ElecOut=pd.read_csv(root+inde+'/'+nodes+'_ElecOut.csv')\n",
    "ElecOut.drop(['Unnamed: 0'], axis=1,inplace=True)\n",
    "\n",
    "HeatDump=pd.read_csv(root+inde+'/'+nodes+'_HeatDump.csv')\n",
    "HeatDump.drop(['Unnamed: 0'], axis=1,inplace=True)\n",
    "ElecIn=pd.read_csv(root+inde+'/'+nodes+'_ElecIn.csv')\n",
    "ElecIn.drop(['Unnamed: 0'], axis=1,inplace=True)\n",
    "OilOut=pd.read_csv(root+inde+'/'+nodes+'_BoilOut1.csv')\n",
    "OilOut.drop(['Unnamed: 0'], axis=1,inplace=True)\n",
    "extra=(NGOut.sum().sum()+OilOut.sum().sum()+ElecIn.sum().sum()+(GSHPout.sum().sum()-GSHPin.sum().sum())+(ASHPout.sum().sum()-ASHPin.sum().sum())+(PVout.sum().sum()-ElecOut.sum().sum())+(STout.sum().sum()-HeatDump.sum().sum()))-(HeatDemand+ElecDemand)\n",
    "Data_frames[inde].loc[objective,'Natural gas']=NGOut.sum().sum()\n",
    "Data_frames[inde].loc[objective,'Oil']=OilOut.sum().sum()\n",
    "Data_frames[inde].loc[objective,'Electricity']=ElecIn.sum().sum()\n",
    "Data_frames[inde].loc[objective,'HP']=(GSHPout.sum().sum()-GSHPin.sum().sum())+(ASHPout.sum().sum()-ASHPin.sum().sum())-extra\n",
    "Data_frames[inde].loc[objective,'PV']=PVout.sum().sum()-ElecOut.sum().sum()\n",
    "Data_frames[inde].loc[objective,'ST']=STout.sum().sum()-HeatDump.sum().sum()\n",
    "SelfSuff.loc[objective,inde]=((HeatDemand+ElecDemand)-(NGOut.sum().sum()+OilOut.sum().sum()+ElecIn.sum().sum()))/(HeatDemand+ElecDemand)\n",
    "extra"
   ]
  },
  {
   "cell_type": "code",
   "execution_count": 63,
   "metadata": {
    "collapsed": false
   },
   "outputs": [
    {
     "data": {
      "text/plain": [
       "1.312198200938249e-13"
      ]
     },
     "execution_count": 63,
     "metadata": {},
     "output_type": "execute_result"
    }
   ],
   "source": [
    "inde='Community'\n",
    "objective=3\n",
    "nodes='CNode50'\n",
    "root=r'/Users/portia_murray/Dropbox/PhD/ICAE data/'\n",
    "NGOut=pd.read_csv(root+inde+'/'+nodes+'_BoilOut0.csv')\n",
    "NGOut.drop(['Unnamed: 0'], axis=1,inplace=True)\n",
    "STout=pd.read_csv(root+inde+'/'+nodes+'_ROut1.csv')\n",
    "STout.drop(['Unnamed: 0'], axis=1,inplace=True)\n",
    "PVout=pd.read_csv(root+inde+'/'+nodes+'_ROut0.csv')\n",
    "PVout.drop(['Unnamed: 0'], axis=1,inplace=True)\n",
    "\n",
    "GSHPout=pd.read_csv(root+inde+'/'+nodes+'_HPOut0.csv')\n",
    "GSHPout.drop(['Unnamed: 0'], axis=1,inplace=True)\n",
    "ASHPout=pd.read_csv(root+inde+'/'+nodes+'_HPOut1.csv')\n",
    "ASHPout.drop(['Unnamed: 0'], axis=1,inplace=True)\n",
    "\n",
    "GSHPin=pd.read_csv(root+inde+'/'+nodes+'_HPIn0.csv')\n",
    "GSHPin.drop(['Unnamed: 0'], axis=1,inplace=True)\n",
    "ASHPin=pd.read_csv(root+inde+'/'+nodes+'_HPIn1.csv')\n",
    "ASHPin.drop(['Unnamed: 0'], axis=1,inplace=True)\n",
    "\n",
    "ElecOut=pd.read_csv(root+inde+'/'+nodes+'_ElecOut.csv')\n",
    "ElecOut.drop(['Unnamed: 0'], axis=1,inplace=True)\n",
    "\n",
    "HeatDump=pd.read_csv(root+inde+'/'+nodes+'_HeatDump.csv')\n",
    "HeatDump.drop(['Unnamed: 0'], axis=1,inplace=True)\n",
    "ElecIn=pd.read_csv(root+inde+'/'+nodes+'_ElecIn.csv')\n",
    "ElecIn.drop(['Unnamed: 0'], axis=1,inplace=True)\n",
    "OilOut=pd.read_csv(root+inde+'/'+nodes+'_BoilOut1.csv')\n",
    "OilOut.drop(['Unnamed: 0'], axis=1,inplace=True)\n",
    "extra=(NGOut.sum().sum()+OilOut.sum().sum()+ElecIn.sum().sum()+(GSHPout.sum().sum()-GSHPin.sum().sum())+(ASHPout.sum().sum()-ASHPin.sum().sum())+(PVout.sum().sum()-ElecOut.sum().sum())+(STout.sum().sum()-HeatDump.sum().sum()))-(HeatDemand+ElecDemand)\n",
    "Data_frames[inde].loc[objective,'Natural gas']=NGOut.sum().sum()\n",
    "Data_frames[inde].loc[objective,'Oil']=OilOut.sum().sum()\n",
    "Data_frames[inde].loc[objective,'Electricity']=ElecIn.sum().sum()\n",
    "Data_frames[inde].loc[objective,'HP']=(GSHPout.sum().sum()-GSHPin.sum().sum())+(ASHPout.sum().sum()-ASHPin.sum().sum())-extra\n",
    "Data_frames[inde].loc[objective,'PV']=PVout.sum().sum()-ElecOut.sum().sum()\n",
    "Data_frames[inde].loc[objective,'ST']=STout.sum().sum()-HeatDump.sum().sum()\n",
    "SelfSuff.loc[objective,inde]=((HeatDemand+ElecDemand)-(NGOut.sum().sum()+OilOut.sum().sum()+ElecIn.sum().sum()))/(HeatDemand+ElecDemand)\n",
    "HeatDump.sum().sum()"
   ]
  },
  {
   "cell_type": "code",
   "execution_count": 64,
   "metadata": {
    "collapsed": false
   },
   "outputs": [
    {
     "data": {
      "text/plain": [
       "-2.9401843500899823e-12"
      ]
     },
     "execution_count": 64,
     "metadata": {},
     "output_type": "execute_result"
    }
   ],
   "source": [
    "inde='Community'\n",
    "objective=4\n",
    "nodes='CNode75'\n",
    "root=r'/Users/portia_murray/Dropbox/PhD/ICAE data/'\n",
    "NGOut=pd.read_csv(root+inde+'/'+nodes+'_BoilOut0.csv')\n",
    "NGOut.drop(['Unnamed: 0'], axis=1,inplace=True)\n",
    "STout=pd.read_csv(root+inde+'/'+nodes+'_ROut1.csv')\n",
    "STout.drop(['Unnamed: 0'], axis=1,inplace=True)\n",
    "PVout=pd.read_csv(root+inde+'/'+nodes+'_ROut0.csv')\n",
    "PVout.drop(['Unnamed: 0'], axis=1,inplace=True)\n",
    "\n",
    "GSHPout=pd.read_csv(root+inde+'/'+nodes+'_HPOut0.csv')\n",
    "GSHPout.drop(['Unnamed: 0'], axis=1,inplace=True)\n",
    "ASHPout=pd.read_csv(root+inde+'/'+nodes+'_HPOut1.csv')\n",
    "ASHPout.drop(['Unnamed: 0'], axis=1,inplace=True)\n",
    "\n",
    "GSHPin=pd.read_csv(root+inde+'/'+nodes+'_HPIn0.csv')\n",
    "GSHPin.drop(['Unnamed: 0'], axis=1,inplace=True)\n",
    "ASHPin=pd.read_csv(root+inde+'/'+nodes+'_HPIn1.csv')\n",
    "ASHPin.drop(['Unnamed: 0'], axis=1,inplace=True)\n",
    "\n",
    "ElecOut=pd.read_csv(root+inde+'/'+nodes+'_ElecOut.csv')\n",
    "ElecOut.drop(['Unnamed: 0'], axis=1,inplace=True)\n",
    "\n",
    "HeatDump=pd.read_csv(root+inde+'/'+nodes+'_HeatDump.csv')\n",
    "HeatDump.drop(['Unnamed: 0'], axis=1,inplace=True)\n",
    "ElecIn=pd.read_csv(root+inde+'/'+nodes+'_ElecIn.csv')\n",
    "ElecIn.drop(['Unnamed: 0'], axis=1,inplace=True)\n",
    "OilOut=pd.read_csv(root+inde+'/'+nodes+'_BoilOut1.csv')\n",
    "OilOut.drop(['Unnamed: 0'], axis=1,inplace=True)\n",
    "extra=(NGOut.sum().sum()+OilOut.sum().sum()+ElecIn.sum().sum()+(GSHPout.sum().sum()-GSHPin.sum().sum())+(ASHPout.sum().sum()-ASHPin.sum().sum())+(PVout.sum().sum()-ElecOut.sum().sum())+(STout.sum().sum()-HeatDump.sum().sum()))-(HeatDemand+ElecDemand)\n",
    "Data_frames[inde].loc[objective,'Natural gas']=NGOut.sum().sum()\n",
    "Data_frames[inde].loc[objective,'Oil']=OilOut.sum().sum()\n",
    "Data_frames[inde].loc[objective,'Electricity']=ElecIn.sum().sum()\n",
    "Data_frames[inde].loc[objective,'HP']=(GSHPout.sum().sum()-GSHPin.sum().sum())+(ASHPout.sum().sum()-ASHPin.sum().sum())-extra\n",
    "Data_frames[inde].loc[objective,'PV']=PVout.sum().sum()-ElecOut.sum().sum()\n",
    "Data_frames[inde].loc[objective,'ST']=STout.sum().sum()-HeatDump.sum().sum()\n",
    "SelfSuff.loc[objective,inde]=((HeatDemand+ElecDemand)-(NGOut.sum().sum()+OilOut.sum().sum()+ElecIn.sum().sum()))/(HeatDemand+ElecDemand)\n",
    "HeatDump.sum().sum()"
   ]
  },
  {
   "cell_type": "code",
   "execution_count": 65,
   "metadata": {
    "collapsed": false
   },
   "outputs": [
    {
     "data": {
      "text/plain": [
       "815996.1370280429"
      ]
     },
     "execution_count": 65,
     "metadata": {},
     "output_type": "execute_result"
    }
   ],
   "source": [
    "inde='Community'\n",
    "objective=5\n",
    "nodes='CNode995'\n",
    "root=r'/Users/portia_murray/Dropbox/PhD/ICAE data/'\n",
    "NGOut=pd.read_csv(root+inde+'/'+nodes+'_BoilOut0.csv')\n",
    "NGOut.drop(['Unnamed: 0'], axis=1,inplace=True)\n",
    "STout=pd.read_csv(root+inde+'/'+nodes+'_ROut1.csv')\n",
    "STout.drop(['Unnamed: 0'], axis=1,inplace=True)\n",
    "PVout=pd.read_csv(root+inde+'/'+nodes+'_ROut0.csv')\n",
    "PVout.drop(['Unnamed: 0'], axis=1,inplace=True)\n",
    "\n",
    "GSHPout=pd.read_csv(root+inde+'/'+nodes+'_HPOut0.csv')\n",
    "GSHPout.drop(['Unnamed: 0'], axis=1,inplace=True)\n",
    "ASHPout=pd.read_csv(root+inde+'/'+nodes+'_HPOut1.csv')\n",
    "ASHPout.drop(['Unnamed: 0'], axis=1,inplace=True)\n",
    "\n",
    "GSHPin=pd.read_csv(root+inde+'/'+nodes+'_HPIn0.csv')\n",
    "GSHPin.drop(['Unnamed: 0'], axis=1,inplace=True)\n",
    "ASHPin=pd.read_csv(root+inde+'/'+nodes+'_HPIn1.csv')\n",
    "ASHPin.drop(['Unnamed: 0'], axis=1,inplace=True)\n",
    "\n",
    "ElecOut=pd.read_csv(root+inde+'/'+nodes+'_ElecOut.csv')\n",
    "ElecOut.drop(['Unnamed: 0'], axis=1,inplace=True)\n",
    "\n",
    "HeatDump=pd.read_csv(root+inde+'/'+nodes+'_HeatDump.csv')\n",
    "HeatDump.drop(['Unnamed: 0'], axis=1,inplace=True)\n",
    "ElecIn=pd.read_csv(root+inde+'/'+nodes+'_ElecIn.csv')\n",
    "ElecIn.drop(['Unnamed: 0'], axis=1,inplace=True)\n",
    "OilOut=pd.read_csv(root+inde+'/'+nodes+'_BoilOut1.csv')\n",
    "OilOut.drop(['Unnamed: 0'], axis=1,inplace=True)\n",
    "extra=(NGOut.sum().sum()+OilOut.sum().sum()+ElecIn.sum().sum()+(GSHPout.sum().sum()-GSHPin.sum().sum())+(ASHPout.sum().sum()-ASHPin.sum().sum())+(PVout.sum().sum()-ElecOut.sum().sum())+(STout.sum().sum()-HeatDump.sum().sum()))-(HeatDemand+ElecDemand)\n",
    "Data_frames[inde].loc[objective,'Natural gas']=NGOut.sum().sum()\n",
    "Data_frames[inde].loc[objective,'Oil']=OilOut.sum().sum()\n",
    "Data_frames[inde].loc[objective,'Electricity']=ElecIn.sum().sum()\n",
    "Data_frames[inde].loc[objective,'HP']=(GSHPout.sum().sum()-GSHPin.sum().sum())+(ASHPout.sum().sum()-ASHPin.sum().sum())-(extra/2)\n",
    "Data_frames[inde].loc[objective,'PV']=PVout.sum().sum()-ElecOut.sum().sum()\n",
    "Data_frames[inde].loc[objective,'ST']=STout.sum().sum()-HeatDump.sum().sum()-(extra/2)\n",
    "SelfSuff.loc[objective,inde]=((HeatDemand+ElecDemand)-(NGOut.sum().sum()+OilOut.sum().sum()+ElecIn.sum().sum()))/(HeatDemand+ElecDemand)\n",
    "HeatDump.sum().sum()"
   ]
  },
  {
   "cell_type": "code",
   "execution_count": 67,
   "metadata": {
    "collapsed": false
   },
   "outputs": [],
   "source": [
    "Data_frames['Community'].loc[3,'ST']=0"
   ]
  },
  {
   "cell_type": "code",
   "execution_count": 68,
   "metadata": {
    "collapsed": false
   },
   "outputs": [],
   "source": [
    "Data_frames['District']=pd.DataFrame(index=range(1,6),columns=['Electricity','Natural gas','Oil','HP','PV','ST'])"
   ]
  },
  {
   "cell_type": "code",
   "execution_count": 69,
   "metadata": {
    "collapsed": false
   },
   "outputs": [
    {
     "data": {
      "text/plain": [
       "800989.7448964231"
      ]
     },
     "execution_count": 69,
     "metadata": {},
     "output_type": "execute_result"
    }
   ],
   "source": [
    "inde='District'\n",
    "objective=1\n",
    "nodes='DCost'\n",
    "root=r'/Users/portia_murray/Dropbox/PhD/ICAE data/'\n",
    "NGOut=pd.read_csv(root+inde+'/'+nodes+'_BoilOut0.csv')\n",
    "NGOut.drop(['Unnamed: 0'], axis=1,inplace=True)\n",
    "STout=pd.read_csv(root+inde+'/'+nodes+'_ROut1.csv')\n",
    "STout.drop(['Unnamed: 0'], axis=1,inplace=True)\n",
    "PVout=pd.read_csv(root+inde+'/'+nodes+'_ROut0.csv')\n",
    "PVout.drop(['Unnamed: 0'], axis=1,inplace=True)\n",
    "\n",
    "GSHPout=pd.read_csv(root+inde+'/'+nodes+'_HPOut0.csv')\n",
    "GSHPout.drop(['Unnamed: 0'], axis=1,inplace=True)\n",
    "ASHPout=pd.read_csv(root+inde+'/'+nodes+'_HPOut1.csv')\n",
    "ASHPout.drop(['Unnamed: 0'], axis=1,inplace=True)\n",
    "\n",
    "GSHPin=pd.read_csv(root+inde+'/'+nodes+'_HPIn0.csv')\n",
    "GSHPin.drop(['Unnamed: 0'], axis=1,inplace=True)\n",
    "ASHPin=pd.read_csv(root+inde+'/'+nodes+'_HPIn1.csv')\n",
    "ASHPin.drop(['Unnamed: 0'], axis=1,inplace=True)\n",
    "\n",
    "ElecOut=pd.read_csv(root+inde+'/'+nodes+'_ElecOut.csv')\n",
    "ElecOut.drop(['Unnamed: 0'], axis=1,inplace=True)\n",
    "\n",
    "HeatDump=pd.read_csv(root+inde+'/'+nodes+'_HeatDump.csv')\n",
    "HeatDump.drop(['Unnamed: 0'], axis=1,inplace=True)\n",
    "ElecIn=pd.read_csv(root+inde+'/'+nodes+'_ElecIn.csv')\n",
    "ElecIn.drop(['Unnamed: 0'], axis=1,inplace=True)\n",
    "OilOut=pd.read_csv(root+inde+'/'+nodes+'_BoilOut1.csv')\n",
    "OilOut.drop(['Unnamed: 0'], axis=1,inplace=True)\n",
    "extra=(NGOut.sum().sum()+OilOut.sum().sum()+ElecIn.sum().sum()+(GSHPout.sum().sum()-GSHPin.sum().sum())+(ASHPout.sum().sum()-ASHPin.sum().sum())+(PVout.sum().sum()-ElecOut.sum().sum())+(STout.sum().sum()-HeatDump.sum().sum()))-(HeatDemand+ElecDemand)\n",
    "Data_frames[inde].loc[objective,'Natural gas']=NGOut.sum().sum()\n",
    "Data_frames[inde].loc[objective,'Oil']=OilOut.sum().sum()-extra\n",
    "Data_frames[inde].loc[objective,'Electricity']=ElecIn.sum().sum()\n",
    "Data_frames[inde].loc[objective,'HP']=(GSHPout.sum().sum()-GSHPin.sum().sum())+(ASHPout.sum().sum()-ASHPin.sum().sum())\n",
    "Data_frames[inde].loc[objective,'PV']=PVout.sum().sum()-ElecOut.sum().sum()\n",
    "Data_frames[inde].loc[objective,'ST']=STout.sum().sum()-HeatDump.sum().sum()\n",
    "SelfSuff.loc[objective,inde]=((HeatDemand+ElecDemand)-(NGOut.sum().sum()+OilOut.sum().sum()+ElecIn.sum().sum()))/(HeatDemand+ElecDemand)\n",
    "extra"
   ]
  },
  {
   "cell_type": "code",
   "execution_count": 70,
   "metadata": {
    "collapsed": false
   },
   "outputs": [
    {
     "data": {
      "text/plain": [
       "1.6899656606273978e-12"
      ]
     },
     "execution_count": 70,
     "metadata": {},
     "output_type": "execute_result"
    }
   ],
   "source": [
    "inde='District'\n",
    "objective=2\n",
    "nodes='DNode25'\n",
    "root=r'/Users/portia_murray/Dropbox/PhD/ICAE data/'\n",
    "NGOut=pd.read_csv(root+inde+'/'+nodes+'_BoilOut0.csv')\n",
    "NGOut.drop(['Unnamed: 0'], axis=1,inplace=True)\n",
    "STout=pd.read_csv(root+inde+'/'+nodes+'_ROut1.csv')\n",
    "STout.drop(['Unnamed: 0'], axis=1,inplace=True)\n",
    "PVout=pd.read_csv(root+inde+'/'+nodes+'_ROut0.csv')\n",
    "PVout.drop(['Unnamed: 0'], axis=1,inplace=True)\n",
    "\n",
    "GSHPout=pd.read_csv(root+inde+'/'+nodes+'_HPOut0.csv')\n",
    "GSHPout.drop(['Unnamed: 0'], axis=1,inplace=True)\n",
    "ASHPout=pd.read_csv(root+inde+'/'+nodes+'_HPOut1.csv')\n",
    "ASHPout.drop(['Unnamed: 0'], axis=1,inplace=True)\n",
    "\n",
    "GSHPin=pd.read_csv(root+inde+'/'+nodes+'_HPIn0.csv')\n",
    "GSHPin.drop(['Unnamed: 0'], axis=1,inplace=True)\n",
    "ASHPin=pd.read_csv(root+inde+'/'+nodes+'_HPIn1.csv')\n",
    "ASHPin.drop(['Unnamed: 0'], axis=1,inplace=True)\n",
    "\n",
    "ElecOut=pd.read_csv(root+inde+'/'+nodes+'_ElecOut.csv')\n",
    "ElecOut.drop(['Unnamed: 0'], axis=1,inplace=True)\n",
    "\n",
    "HeatDump=pd.read_csv(root+inde+'/'+nodes+'_HeatDump.csv')\n",
    "HeatDump.drop(['Unnamed: 0'], axis=1,inplace=True)\n",
    "ElecIn=pd.read_csv(root+inde+'/'+nodes+'_ElecIn.csv')\n",
    "ElecIn.drop(['Unnamed: 0'], axis=1,inplace=True)\n",
    "OilOut=pd.read_csv(root+inde+'/'+nodes+'_BoilOut1.csv')\n",
    "OilOut.drop(['Unnamed: 0'], axis=1,inplace=True)\n",
    "extra=(NGOut.sum().sum()+OilOut.sum().sum()+ElecIn.sum().sum()+(GSHPout.sum().sum()-GSHPin.sum().sum())+(ASHPout.sum().sum()-ASHPin.sum().sum())+(PVout.sum().sum()-ElecOut.sum().sum())+(STout.sum().sum()-HeatDump.sum().sum()))-(HeatDemand+ElecDemand)\n",
    "Data_frames[inde].loc[objective,'Natural gas']=NGOut.sum().sum()\n",
    "Data_frames[inde].loc[objective,'Oil']=OilOut.sum().sum()\n",
    "Data_frames[inde].loc[objective,'Electricity']=ElecIn.sum().sum()\n",
    "Data_frames[inde].loc[objective,'HP']=(GSHPout.sum().sum()-GSHPin.sum().sum())+(ASHPout.sum().sum()-ASHPin.sum().sum())-extra\n",
    "Data_frames[inde].loc[objective,'PV']=PVout.sum().sum()-ElecOut.sum().sum()\n",
    "Data_frames[inde].loc[objective,'ST']=STout.sum().sum()-HeatDump.sum().sum()\n",
    "SelfSuff.loc[objective,inde]=((HeatDemand+ElecDemand)-(NGOut.sum().sum()+OilOut.sum().sum()+ElecIn.sum().sum()))/(HeatDemand+ElecDemand)\n",
    "HeatDump.sum().sum()"
   ]
  },
  {
   "cell_type": "code",
   "execution_count": 71,
   "metadata": {
    "collapsed": false
   },
   "outputs": [
    {
     "data": {
      "text/plain": [
       "-2.1066833931849385e-12"
      ]
     },
     "execution_count": 71,
     "metadata": {},
     "output_type": "execute_result"
    }
   ],
   "source": [
    "inde='District'\n",
    "objective=3\n",
    "nodes='DNode50'\n",
    "root=r'/Users/portia_murray/Dropbox/PhD/ICAE data/'\n",
    "NGOut=pd.read_csv(root+inde+'/'+nodes+'_BoilOut0.csv')\n",
    "NGOut.drop(['Unnamed: 0'], axis=1,inplace=True)\n",
    "STout=pd.read_csv(root+inde+'/'+nodes+'_ROut1.csv')\n",
    "STout.drop(['Unnamed: 0'], axis=1,inplace=True)\n",
    "PVout=pd.read_csv(root+inde+'/'+nodes+'_ROut0.csv')\n",
    "PVout.drop(['Unnamed: 0'], axis=1,inplace=True)\n",
    "\n",
    "GSHPout=pd.read_csv(root+inde+'/'+nodes+'_HPOut0.csv')\n",
    "GSHPout.drop(['Unnamed: 0'], axis=1,inplace=True)\n",
    "ASHPout=pd.read_csv(root+inde+'/'+nodes+'_HPOut1.csv')\n",
    "ASHPout.drop(['Unnamed: 0'], axis=1,inplace=True)\n",
    "\n",
    "GSHPin=pd.read_csv(root+inde+'/'+nodes+'_HPIn0.csv')\n",
    "GSHPin.drop(['Unnamed: 0'], axis=1,inplace=True)\n",
    "ASHPin=pd.read_csv(root+inde+'/'+nodes+'_HPIn1.csv')\n",
    "ASHPin.drop(['Unnamed: 0'], axis=1,inplace=True)\n",
    "\n",
    "ElecOut=pd.read_csv(root+inde+'/'+nodes+'_ElecOut.csv')\n",
    "ElecOut.drop(['Unnamed: 0'], axis=1,inplace=True)\n",
    "\n",
    "HeatDump=pd.read_csv(root+inde+'/'+nodes+'_HeatDump.csv')\n",
    "HeatDump.drop(['Unnamed: 0'], axis=1,inplace=True)\n",
    "ElecIn=pd.read_csv(root+inde+'/'+nodes+'_ElecIn.csv')\n",
    "ElecIn.drop(['Unnamed: 0'], axis=1,inplace=True)\n",
    "OilOut=pd.read_csv(root+inde+'/'+nodes+'_BoilOut1.csv')\n",
    "OilOut.drop(['Unnamed: 0'], axis=1,inplace=True)\n",
    "extra=(NGOut.sum().sum()+OilOut.sum().sum()+ElecIn.sum().sum()+(GSHPout.sum().sum()-GSHPin.sum().sum())+(ASHPout.sum().sum()-ASHPin.sum().sum())+(PVout.sum().sum()-ElecOut.sum().sum())+(STout.sum().sum()-HeatDump.sum().sum()))-(HeatDemand+ElecDemand)\n",
    "Data_frames[inde].loc[objective,'Natural gas']=NGOut.sum().sum()\n",
    "Data_frames[inde].loc[objective,'Oil']=OilOut.sum().sum()\n",
    "Data_frames[inde].loc[objective,'Electricity']=ElecIn.sum().sum()\n",
    "Data_frames[inde].loc[objective,'HP']=(GSHPout.sum().sum()-GSHPin.sum().sum())+(ASHPout.sum().sum()-ASHPin.sum().sum())-extra\n",
    "Data_frames[inde].loc[objective,'PV']=PVout.sum().sum()-ElecOut.sum().sum()\n",
    "Data_frames[inde].loc[objective,'ST']=STout.sum().sum()-HeatDump.sum().sum()\n",
    "SelfSuff.loc[objective,inde]=((HeatDemand+ElecDemand)-(NGOut.sum().sum()+OilOut.sum().sum()+ElecIn.sum().sum()))/(HeatDemand+ElecDemand)\n",
    "HeatDump.sum().sum()"
   ]
  },
  {
   "cell_type": "code",
   "execution_count": 72,
   "metadata": {
    "collapsed": false
   },
   "outputs": [
    {
     "data": {
      "text/plain": [
       "2.6429981217427783e-10"
      ]
     },
     "execution_count": 72,
     "metadata": {},
     "output_type": "execute_result"
    }
   ],
   "source": [
    "inde='District'\n",
    "objective=4\n",
    "nodes='DNode75'\n",
    "root=r'/Users/portia_murray/Dropbox/PhD/ICAE data/'\n",
    "NGOut=pd.read_csv(root+inde+'/'+nodes+'_BoilOut0.csv')\n",
    "NGOut.drop(['Unnamed: 0'], axis=1,inplace=True)\n",
    "STout=pd.read_csv(root+inde+'/'+nodes+'_ROut1.csv')\n",
    "STout.drop(['Unnamed: 0'], axis=1,inplace=True)\n",
    "PVout=pd.read_csv(root+inde+'/'+nodes+'_ROut0.csv')\n",
    "PVout.drop(['Unnamed: 0'], axis=1,inplace=True)\n",
    "\n",
    "GSHPout=pd.read_csv(root+inde+'/'+nodes+'_HPOut0.csv')\n",
    "GSHPout.drop(['Unnamed: 0'], axis=1,inplace=True)\n",
    "ASHPout=pd.read_csv(root+inde+'/'+nodes+'_HPOut1.csv')\n",
    "ASHPout.drop(['Unnamed: 0'], axis=1,inplace=True)\n",
    "\n",
    "GSHPin=pd.read_csv(root+inde+'/'+nodes+'_HPIn0.csv')\n",
    "GSHPin.drop(['Unnamed: 0'], axis=1,inplace=True)\n",
    "ASHPin=pd.read_csv(root+inde+'/'+nodes+'_HPIn1.csv')\n",
    "ASHPin.drop(['Unnamed: 0'], axis=1,inplace=True)\n",
    "\n",
    "ElecOut=pd.read_csv(root+inde+'/'+nodes+'_ElecOut.csv')\n",
    "ElecOut.drop(['Unnamed: 0'], axis=1,inplace=True)\n",
    "\n",
    "HeatDump=pd.read_csv(root+inde+'/'+nodes+'_HeatDump.csv')\n",
    "HeatDump.drop(['Unnamed: 0'], axis=1,inplace=True)\n",
    "ElecIn=pd.read_csv(root+inde+'/'+nodes+'_ElecIn.csv')\n",
    "ElecIn.drop(['Unnamed: 0'], axis=1,inplace=True)\n",
    "OilOut=pd.read_csv(root+inde+'/'+nodes+'_BoilOut1.csv')\n",
    "OilOut.drop(['Unnamed: 0'], axis=1,inplace=True)\n",
    "extra=(NGOut.sum().sum()+OilOut.sum().sum()+ElecIn.sum().sum()+(GSHPout.sum().sum()-GSHPin.sum().sum())+(ASHPout.sum().sum()-ASHPin.sum().sum())+(PVout.sum().sum()-ElecOut.sum().sum())+(STout.sum().sum()-HeatDump.sum().sum()))-(HeatDemand+ElecDemand)\n",
    "Data_frames[inde].loc[objective,'Natural gas']=NGOut.sum().sum()\n",
    "Data_frames[inde].loc[objective,'Oil']=OilOut.sum().sum()\n",
    "Data_frames[inde].loc[objective,'Electricity']=ElecIn.sum().sum()\n",
    "Data_frames[inde].loc[objective,'HP']=(GSHPout.sum().sum()-GSHPin.sum().sum())+(ASHPout.sum().sum()-ASHPin.sum().sum())-extra\n",
    "Data_frames[inde].loc[objective,'PV']=PVout.sum().sum()-ElecOut.sum().sum()\n",
    "Data_frames[inde].loc[objective,'ST']=STout.sum().sum()-HeatDump.sum().sum()\n",
    "SelfSuff.loc[objective,inde]=((HeatDemand+ElecDemand)-(NGOut.sum().sum()+OilOut.sum().sum()+ElecIn.sum().sum()))/(HeatDemand+ElecDemand)\n",
    "HeatDump.sum().sum()"
   ]
  },
  {
   "cell_type": "code",
   "execution_count": 73,
   "metadata": {
    "collapsed": false
   },
   "outputs": [
    {
     "data": {
      "text/plain": [
       "2234647.192655094"
      ]
     },
     "execution_count": 73,
     "metadata": {},
     "output_type": "execute_result"
    }
   ],
   "source": [
    "inde='District'\n",
    "objective=5\n",
    "nodes='DNode995'\n",
    "root=r'/Users/portia_murray/Dropbox/PhD/ICAE data/'\n",
    "NGOut=pd.read_csv(root+inde+'/'+nodes+'_BoilOut0.csv')\n",
    "NGOut.drop(['Unnamed: 0'], axis=1,inplace=True)\n",
    "STout=pd.read_csv(root+inde+'/'+nodes+'_ROut1.csv')\n",
    "STout.drop(['Unnamed: 0'], axis=1,inplace=True)\n",
    "PVout=pd.read_csv(root+inde+'/'+nodes+'_ROut0.csv')\n",
    "PVout.drop(['Unnamed: 0'], axis=1,inplace=True)\n",
    "\n",
    "GSHPout=pd.read_csv(root+inde+'/'+nodes+'_HPOut0.csv')\n",
    "GSHPout.drop(['Unnamed: 0'], axis=1,inplace=True)\n",
    "ASHPout=pd.read_csv(root+inde+'/'+nodes+'_HPOut1.csv')\n",
    "ASHPout.drop(['Unnamed: 0'], axis=1,inplace=True)\n",
    "\n",
    "GSHPin=pd.read_csv(root+inde+'/'+nodes+'_HPIn0.csv')\n",
    "GSHPin.drop(['Unnamed: 0'], axis=1,inplace=True)\n",
    "ASHPin=pd.read_csv(root+inde+'/'+nodes+'_HPIn1.csv')\n",
    "ASHPin.drop(['Unnamed: 0'], axis=1,inplace=True)\n",
    "\n",
    "ElecOut=pd.read_csv(root+inde+'/'+nodes+'_ElecOut.csv')\n",
    "ElecOut.drop(['Unnamed: 0'], axis=1,inplace=True)\n",
    "\n",
    "HeatDump=pd.read_csv(root+inde+'/'+nodes+'_HeatDump.csv')\n",
    "HeatDump.drop(['Unnamed: 0'], axis=1,inplace=True)\n",
    "ElecIn=pd.read_csv(root+inde+'/'+nodes+'_ElecIn.csv')\n",
    "ElecIn.drop(['Unnamed: 0'], axis=1,inplace=True)\n",
    "OilOut=pd.read_csv(root+inde+'/'+nodes+'_BoilOut1.csv')\n",
    "OilOut.drop(['Unnamed: 0'], axis=1,inplace=True)\n",
    "extra=(NGOut.sum().sum()+OilOut.sum().sum()+ElecIn.sum().sum()+(GSHPout.sum().sum()-GSHPin.sum().sum())+(ASHPout.sum().sum()-ASHPin.sum().sum())+(PVout.sum().sum()-ElecOut.sum().sum())+(STout.sum().sum()-HeatDump.sum().sum()))-(HeatDemand+ElecDemand)\n",
    "Data_frames[inde].loc[objective,'Natural gas']=NGOut.sum().sum()\n",
    "Data_frames[inde].loc[objective,'Oil']=OilOut.sum().sum()\n",
    "Data_frames[inde].loc[objective,'Electricity']=ElecIn.sum().sum()\n",
    "Data_frames[inde].loc[objective,'HP']=(GSHPout.sum().sum()-GSHPin.sum().sum())+(ASHPout.sum().sum()-ASHPin.sum().sum())-extra\n",
    "Data_frames[inde].loc[objective,'PV']=PVout.sum().sum()-ElecOut.sum().sum()\n",
    "Data_frames[inde].loc[objective,'ST']=STout.sum().sum()-HeatDump.sum().sum()\n",
    "SelfSuff.loc[objective,inde]=((HeatDemand+ElecDemand)-(NGOut.sum().sum()+OilOut.sum().sum()+ElecIn.sum().sum()))/(HeatDemand+ElecDemand)\n",
    "HeatDump.sum().sum()"
   ]
  },
  {
   "cell_type": "code",
   "execution_count": 78,
   "metadata": {
    "collapsed": false
   },
   "outputs": [
    {
     "data": {
      "text/html": [
       "<div>\n",
       "<style>\n",
       "    .dataframe thead tr:only-child th {\n",
       "        text-align: right;\n",
       "    }\n",
       "\n",
       "    .dataframe thead th {\n",
       "        text-align: left;\n",
       "    }\n",
       "\n",
       "    .dataframe tbody tr th {\n",
       "        vertical-align: top;\n",
       "    }\n",
       "</style>\n",
       "<table border=\"1\" class=\"dataframe\">\n",
       "  <thead>\n",
       "    <tr style=\"text-align: right;\">\n",
       "      <th></th>\n",
       "      <th>Electricity</th>\n",
       "      <th>Natural gas</th>\n",
       "      <th>Oil</th>\n",
       "      <th>HP</th>\n",
       "      <th>PV</th>\n",
       "      <th>ST</th>\n",
       "    </tr>\n",
       "  </thead>\n",
       "  <tbody>\n",
       "    <tr>\n",
       "      <th>1</th>\n",
       "      <td>8.17664e+06</td>\n",
       "      <td>0</td>\n",
       "      <td>1.77644e+07</td>\n",
       "      <td>0</td>\n",
       "      <td>1.85223e+06</td>\n",
       "      <td>2.13423e-13</td>\n",
       "    </tr>\n",
       "    <tr>\n",
       "      <th>2</th>\n",
       "      <td>9.20556e+06</td>\n",
       "      <td>0</td>\n",
       "      <td>1.51059e+07</td>\n",
       "      <td>1.61918e+06</td>\n",
       "      <td>1.86265e+06</td>\n",
       "      <td>0</td>\n",
       "    </tr>\n",
       "    <tr>\n",
       "      <th>3</th>\n",
       "      <td>1.04377e+07</td>\n",
       "      <td>0</td>\n",
       "      <td>1.15787e+07</td>\n",
       "      <td>3.90853e+06</td>\n",
       "      <td>1.8684e+06</td>\n",
       "      <td>2.10668e-12</td>\n",
       "    </tr>\n",
       "    <tr>\n",
       "      <th>4</th>\n",
       "      <td>1.16325e+07</td>\n",
       "      <td>3.88483e+06</td>\n",
       "      <td>4.86648e+06</td>\n",
       "      <td>5.30009e+06</td>\n",
       "      <td>1.7829e+06</td>\n",
       "      <td>326503</td>\n",
       "    </tr>\n",
       "    <tr>\n",
       "      <th>5</th>\n",
       "      <td>1.27875e+07</td>\n",
       "      <td>5.62977e+06</td>\n",
       "      <td>0</td>\n",
       "      <td>1.71142e+06</td>\n",
       "      <td>82025.1</td>\n",
       "      <td>7.58253e+06</td>\n",
       "    </tr>\n",
       "  </tbody>\n",
       "</table>\n",
       "</div>"
      ],
      "text/plain": [
       "   Electricity  Natural gas          Oil           HP           PV  \\\n",
       "1  8.17664e+06            0  1.77644e+07            0  1.85223e+06   \n",
       "2  9.20556e+06            0  1.51059e+07  1.61918e+06  1.86265e+06   \n",
       "3  1.04377e+07            0  1.15787e+07  3.90853e+06   1.8684e+06   \n",
       "4  1.16325e+07  3.88483e+06  4.86648e+06  5.30009e+06   1.7829e+06   \n",
       "5  1.27875e+07  5.62977e+06            0  1.71142e+06      82025.1   \n",
       "\n",
       "            ST  \n",
       "1  2.13423e-13  \n",
       "2            0  \n",
       "3  2.10668e-12  \n",
       "4       326503  \n",
       "5  7.58253e+06  "
      ]
     },
     "execution_count": 78,
     "metadata": {},
     "output_type": "execute_result"
    }
   ],
   "source": [
    "Data_frames['District']"
   ]
  },
  {
   "cell_type": "code",
   "execution_count": 79,
   "metadata": {
    "collapsed": false
   },
   "outputs": [],
   "source": [
    "Data_frames['Village']=pd.DataFrame(index=range(1,6),columns=['Electricity','Natural gas','Oil','HP','PV','ST'])"
   ]
  },
  {
   "cell_type": "code",
   "execution_count": 80,
   "metadata": {
    "collapsed": false
   },
   "outputs": [
    {
     "data": {
      "text/plain": [
       "7.442935157087041e-13"
      ]
     },
     "execution_count": 80,
     "metadata": {},
     "output_type": "execute_result"
    }
   ],
   "source": [
    "inde='Village'\n",
    "objective=1\n",
    "nodes='VCost'\n",
    "root=r'/Users/portia_murray/Dropbox/PhD/ICAE data/'\n",
    "NGOut=pd.read_csv(root+inde+'/'+nodes+'_BoilOut0.csv')\n",
    "NGOut.drop(['Unnamed: 0'], axis=1,inplace=True)\n",
    "STout=pd.read_csv(root+inde+'/'+nodes+'_ROut1.csv')\n",
    "STout.drop(['Unnamed: 0'], axis=1,inplace=True)\n",
    "PVout=pd.read_csv(root+inde+'/'+nodes+'_ROut0.csv')\n",
    "PVout.drop(['Unnamed: 0'], axis=1,inplace=True)\n",
    "\n",
    "GSHPout=pd.read_csv(root+inde+'/'+nodes+'_HPOut0.csv')\n",
    "GSHPout.drop(['Unnamed: 0'], axis=1,inplace=True)\n",
    "ASHPout=pd.read_csv(root+inde+'/'+nodes+'_HPOut1.csv')\n",
    "ASHPout.drop(['Unnamed: 0'], axis=1,inplace=True)\n",
    "\n",
    "GSHPin=pd.read_csv(root+inde+'/'+nodes+'_HPIn0.csv')\n",
    "GSHPin.drop(['Unnamed: 0'], axis=1,inplace=True)\n",
    "ASHPin=pd.read_csv(root+inde+'/'+nodes+'_HPIn1.csv')\n",
    "ASHPin.drop(['Unnamed: 0'], axis=1,inplace=True)\n",
    "\n",
    "ElecOut=pd.read_csv(root+inde+'/'+nodes+'_ElecOut.csv')\n",
    "ElecOut.drop(['Unnamed: 0'], axis=1,inplace=True)\n",
    "\n",
    "HeatDump=pd.read_csv(root+inde+'/'+nodes+'_HeatDump.csv')\n",
    "HeatDump.drop(['Unnamed: 0'], axis=1,inplace=True)\n",
    "ElecIn=pd.read_csv(root+inde+'/'+nodes+'_ElecIn.csv')\n",
    "ElecIn.drop(['Unnamed: 0'], axis=1,inplace=True)\n",
    "OilOut=pd.read_csv(root+inde+'/'+nodes+'_BoilOut1.csv')\n",
    "OilOut.drop(['Unnamed: 0'], axis=1,inplace=True)\n",
    "extra=(NGOut.sum().sum()+OilOut.sum().sum()+ElecIn.sum().sum()+(GSHPout.sum().sum()-GSHPin.sum().sum())+(ASHPout.sum().sum()-ASHPin.sum().sum())+(PVout.sum().sum()-ElecOut.sum().sum())+(STout.sum().sum()-HeatDump.sum().sum()))-(HeatDemand+ElecDemand)\n",
    "Data_frames[inde].loc[objective,'Natural gas']=NGOut.sum().sum()\n",
    "Data_frames[inde].loc[objective,'Oil']=OilOut.sum().sum()-extra\n",
    "Data_frames[inde].loc[objective,'Electricity']=ElecIn.sum().sum()\n",
    "Data_frames[inde].loc[objective,'HP']=(GSHPout.sum().sum()-GSHPin.sum().sum())+(ASHPout.sum().sum()-ASHPin.sum().sum())\n",
    "Data_frames[inde].loc[objective,'PV']=PVout.sum().sum()-ElecOut.sum().sum()\n",
    "Data_frames[inde].loc[objective,'ST']=STout.sum().sum()-HeatDump.sum().sum()\n",
    "SelfSuff.loc[objective,inde]=((HeatDemand+ElecDemand)-(NGOut.sum().sum()+OilOut.sum().sum()+ElecIn.sum().sum()))/(HeatDemand+ElecDemand)\n",
    "HeatDump.sum().sum()"
   ]
  },
  {
   "cell_type": "code",
   "execution_count": 81,
   "metadata": {
    "collapsed": false
   },
   "outputs": [
    {
     "data": {
      "text/plain": [
       "6.078970660183812e-12"
      ]
     },
     "execution_count": 81,
     "metadata": {},
     "output_type": "execute_result"
    }
   ],
   "source": [
    "inde='Village'\n",
    "objective=2\n",
    "nodes='VNode25'\n",
    "root=r'/Users/portia_murray/Dropbox/PhD/ICAE data/'\n",
    "NGOut=pd.read_csv(root+inde+'/'+nodes+'_BoilOut0.csv')\n",
    "NGOut.drop(['Unnamed: 0'], axis=1,inplace=True)\n",
    "STout=pd.read_csv(root+inde+'/'+nodes+'_ROut1.csv')\n",
    "STout.drop(['Unnamed: 0'], axis=1,inplace=True)\n",
    "PVout=pd.read_csv(root+inde+'/'+nodes+'_ROut0.csv')\n",
    "PVout.drop(['Unnamed: 0'], axis=1,inplace=True)\n",
    "\n",
    "GSHPout=pd.read_csv(root+inde+'/'+nodes+'_HPOut0.csv')\n",
    "GSHPout.drop(['Unnamed: 0'], axis=1,inplace=True)\n",
    "ASHPout=pd.read_csv(root+inde+'/'+nodes+'_HPOut1.csv')\n",
    "ASHPout.drop(['Unnamed: 0'], axis=1,inplace=True)\n",
    "\n",
    "GSHPin=pd.read_csv(root+inde+'/'+nodes+'_HPIn0.csv')\n",
    "GSHPin.drop(['Unnamed: 0'], axis=1,inplace=True)\n",
    "ASHPin=pd.read_csv(root+inde+'/'+nodes+'_HPIn1.csv')\n",
    "ASHPin.drop(['Unnamed: 0'], axis=1,inplace=True)\n",
    "\n",
    "ElecOut=pd.read_csv(root+inde+'/'+nodes+'_ElecOut.csv')\n",
    "ElecOut.drop(['Unnamed: 0'], axis=1,inplace=True)\n",
    "\n",
    "HeatDump=pd.read_csv(root+inde+'/'+nodes+'_HeatDump.csv')\n",
    "HeatDump.drop(['Unnamed: 0'], axis=1,inplace=True)\n",
    "ElecIn=pd.read_csv(root+inde+'/'+nodes+'_ElecIn.csv')\n",
    "ElecIn.drop(['Unnamed: 0'], axis=1,inplace=True)\n",
    "OilOut=pd.read_csv(root+inde+'/'+nodes+'_BoilOut1.csv')\n",
    "OilOut.drop(['Unnamed: 0'], axis=1,inplace=True)\n",
    "extra=(NGOut.sum().sum()+OilOut.sum().sum()+ElecIn.sum().sum()+(GSHPout.sum().sum()-GSHPin.sum().sum())+(ASHPout.sum().sum()-ASHPin.sum().sum())+(PVout.sum().sum()-ElecOut.sum().sum())+(STout.sum().sum()-HeatDump.sum().sum()))-(HeatDemand+ElecDemand)\n",
    "Data_frames[inde].loc[objective,'Natural gas']=NGOut.sum().sum()\n",
    "Data_frames[inde].loc[objective,'Oil']=OilOut.sum().sum()-extra/2\n",
    "Data_frames[inde].loc[objective,'Electricity']=ElecIn.sum().sum()\n",
    "Data_frames[inde].loc[objective,'HP']=(GSHPout.sum().sum()-GSHPin.sum().sum())+(ASHPout.sum().sum()-ASHPin.sum().sum())-extra/2\n",
    "Data_frames[inde].loc[objective,'PV']=PVout.sum().sum()-ElecOut.sum().sum()\n",
    "Data_frames[inde].loc[objective,'ST']=STout.sum().sum()-HeatDump.sum().sum()\n",
    "SelfSuff.loc[objective,inde]=((HeatDemand+ElecDemand)-(NGOut.sum().sum()+OilOut.sum().sum()+ElecIn.sum().sum()))/(HeatDemand+ElecDemand)\n",
    "HeatDump.sum().sum()"
   ]
  },
  {
   "cell_type": "code",
   "execution_count": 82,
   "metadata": {
    "collapsed": false
   },
   "outputs": [
    {
     "data": {
      "text/plain": [
       "1.467529837191531e-09"
      ]
     },
     "execution_count": 82,
     "metadata": {},
     "output_type": "execute_result"
    }
   ],
   "source": [
    "inde='Village'\n",
    "objective=3\n",
    "nodes='VNode50'\n",
    "root=r'/Users/portia_murray/Dropbox/PhD/ICAE data/'\n",
    "NGOut=pd.read_csv(root+inde+'/'+nodes+'_BoilOut0.csv')\n",
    "NGOut.drop(['Unnamed: 0'], axis=1,inplace=True)\n",
    "STout=pd.read_csv(root+inde+'/'+nodes+'_ROut1.csv')\n",
    "STout.drop(['Unnamed: 0'], axis=1,inplace=True)\n",
    "PVout=pd.read_csv(root+inde+'/'+nodes+'_ROut0.csv')\n",
    "PVout.drop(['Unnamed: 0'], axis=1,inplace=True)\n",
    "\n",
    "GSHPout=pd.read_csv(root+inde+'/'+nodes+'_HPOut0.csv')\n",
    "GSHPout.drop(['Unnamed: 0'], axis=1,inplace=True)\n",
    "ASHPout=pd.read_csv(root+inde+'/'+nodes+'_HPOut1.csv')\n",
    "ASHPout.drop(['Unnamed: 0'], axis=1,inplace=True)\n",
    "\n",
    "GSHPin=pd.read_csv(root+inde+'/'+nodes+'_HPIn0.csv')\n",
    "GSHPin.drop(['Unnamed: 0'], axis=1,inplace=True)\n",
    "ASHPin=pd.read_csv(root+inde+'/'+nodes+'_HPIn1.csv')\n",
    "ASHPin.drop(['Unnamed: 0'], axis=1,inplace=True)\n",
    "\n",
    "ElecOut=pd.read_csv(root+inde+'/'+nodes+'_ElecOut.csv')\n",
    "ElecOut.drop(['Unnamed: 0'], axis=1,inplace=True)\n",
    "\n",
    "HeatDump=pd.read_csv(root+inde+'/'+nodes+'_HeatDump.csv')\n",
    "HeatDump.drop(['Unnamed: 0'], axis=1,inplace=True)\n",
    "ElecIn=pd.read_csv(root+inde+'/'+nodes+'_ElecIn.csv')\n",
    "ElecIn.drop(['Unnamed: 0'], axis=1,inplace=True)\n",
    "OilOut=pd.read_csv(root+inde+'/'+nodes+'_BoilOut1.csv')\n",
    "OilOut.drop(['Unnamed: 0'], axis=1,inplace=True)\n",
    "extra=(NGOut.sum().sum()+OilOut.sum().sum()+ElecIn.sum().sum()+(GSHPout.sum().sum()-GSHPin.sum().sum())+(ASHPout.sum().sum()-ASHPin.sum().sum())+(PVout.sum().sum()-ElecOut.sum().sum())+(STout.sum().sum()-HeatDump.sum().sum()))-(HeatDemand+ElecDemand)\n",
    "\n",
    "Data_frames[inde].loc[objective,'Natural gas']=NGOut.sum().sum()-extra/2\n",
    "Data_frames[inde].loc[objective,'Oil']=OilOut.sum().sum()\n",
    "Data_frames[inde].loc[objective,'Electricity']=ElecIn.sum().sum()\n",
    "Data_frames[inde].loc[objective,'HP']=(GSHPout.sum().sum()-GSHPin.sum().sum())+(ASHPout.sum().sum()-ASHPin.sum().sum())-extra/2\n",
    "Data_frames[inde].loc[objective,'PV']=PVout.sum().sum()-ElecOut.sum().sum()\n",
    "Data_frames[inde].loc[objective,'ST']=STout.sum().sum()-HeatDump.sum().sum()\n",
    "SelfSuff.loc[objective,inde]=((HeatDemand+ElecDemand)-(NGOut.sum().sum()+OilOut.sum().sum()+ElecIn.sum().sum()))/(HeatDemand+ElecDemand)\n",
    "HeatDump.sum().sum()"
   ]
  },
  {
   "cell_type": "code",
   "execution_count": 83,
   "metadata": {
    "collapsed": false
   },
   "outputs": [
    {
     "data": {
      "text/plain": [
       "7.598390960244398e-10"
      ]
     },
     "execution_count": 83,
     "metadata": {},
     "output_type": "execute_result"
    }
   ],
   "source": [
    "inde='Village'\n",
    "objective=4\n",
    "nodes='VNode75'\n",
    "root=r'/Users/portia_murray/Dropbox/PhD/ICAE data/'\n",
    "NGOut=pd.read_csv(root+inde+'/'+nodes+'_BoilOut0.csv')\n",
    "NGOut.drop(['Unnamed: 0'], axis=1,inplace=True)\n",
    "STout=pd.read_csv(root+inde+'/'+nodes+'_ROut1.csv')\n",
    "STout.drop(['Unnamed: 0'], axis=1,inplace=True)\n",
    "PVout=pd.read_csv(root+inde+'/'+nodes+'_ROut0.csv')\n",
    "PVout.drop(['Unnamed: 0'], axis=1,inplace=True)\n",
    "\n",
    "GSHPout=pd.read_csv(root+inde+'/'+nodes+'_HPOut0.csv')\n",
    "GSHPout.drop(['Unnamed: 0'], axis=1,inplace=True)\n",
    "ASHPout=pd.read_csv(root+inde+'/'+nodes+'_HPOut1.csv')\n",
    "ASHPout.drop(['Unnamed: 0'], axis=1,inplace=True)\n",
    "\n",
    "GSHPin=pd.read_csv(root+inde+'/'+nodes+'_HPIn0.csv')\n",
    "GSHPin.drop(['Unnamed: 0'], axis=1,inplace=True)\n",
    "ASHPin=pd.read_csv(root+inde+'/'+nodes+'_HPIn1.csv')\n",
    "ASHPin.drop(['Unnamed: 0'], axis=1,inplace=True)\n",
    "\n",
    "ElecOut=pd.read_csv(root+inde+'/'+nodes+'_ElecOut.csv')\n",
    "ElecOut.drop(['Unnamed: 0'], axis=1,inplace=True)\n",
    "\n",
    "HeatDump=pd.read_csv(root+inde+'/'+nodes+'_HeatDump.csv')\n",
    "HeatDump.drop(['Unnamed: 0'], axis=1,inplace=True)\n",
    "ElecIn=pd.read_csv(root+inde+'/'+nodes+'_ElecIn.csv')\n",
    "ElecIn.drop(['Unnamed: 0'], axis=1,inplace=True)\n",
    "OilOut=pd.read_csv(root+inde+'/'+nodes+'_BoilOut1.csv')\n",
    "OilOut.drop(['Unnamed: 0'], axis=1,inplace=True)\n",
    "extra=(NGOut.sum().sum()+OilOut.sum().sum()+ElecIn.sum().sum()+(GSHPout.sum().sum()-GSHPin.sum().sum())+(ASHPout.sum().sum()-ASHPin.sum().sum())+(PVout.sum().sum()-ElecOut.sum().sum())+(STout.sum().sum()-HeatDump.sum().sum()))-(HeatDemand+ElecDemand)\n",
    "Data_frames[inde].loc[objective,'Natural gas']=NGOut.sum().sum()\n",
    "Data_frames[inde].loc[objective,'Oil']=OilOut.sum().sum()\n",
    "Data_frames[inde].loc[objective,'Electricity']=ElecIn.sum().sum()\n",
    "Data_frames[inde].loc[objective,'HP']=(GSHPout.sum().sum()-GSHPin.sum().sum())+(ASHPout.sum().sum()-ASHPin.sum().sum())-extra/2\n",
    "Data_frames[inde].loc[objective,'PV']=PVout.sum().sum()-ElecOut.sum().sum()\n",
    "Data_frames[inde].loc[objective,'ST']=STout.sum().sum()-HeatDump.sum().sum()-extra/2\n",
    "SelfSuff.loc[objective,inde]=((HeatDemand+ElecDemand)-(NGOut.sum().sum()+OilOut.sum().sum()+ElecIn.sum().sum()))/(HeatDemand+ElecDemand)\n",
    "HeatDump.sum().sum()"
   ]
  },
  {
   "cell_type": "code",
   "execution_count": 84,
   "metadata": {
    "collapsed": false
   },
   "outputs": [
    {
     "data": {
      "text/plain": [
       "2468880.261130153"
      ]
     },
     "execution_count": 84,
     "metadata": {},
     "output_type": "execute_result"
    }
   ],
   "source": [
    "inde='Village'\n",
    "objective=5\n",
    "nodes='VNode99'\n",
    "root=r'/Users/portia_murray/Dropbox/PhD/ICAE data/'\n",
    "NGOut=pd.read_csv(root+inde+'/'+nodes+'_BoilOut0.csv')\n",
    "NGOut.drop(['Unnamed: 0'], axis=1,inplace=True)\n",
    "STout=pd.read_csv(root+inde+'/'+nodes+'_ROut1.csv')\n",
    "STout.drop(['Unnamed: 0'], axis=1,inplace=True)\n",
    "PVout=pd.read_csv(root+inde+'/'+nodes+'_ROut0.csv')\n",
    "PVout.drop(['Unnamed: 0'], axis=1,inplace=True)\n",
    "\n",
    "GSHPout=pd.read_csv(root+inde+'/'+nodes+'_HPOut0.csv')\n",
    "GSHPout.drop(['Unnamed: 0'], axis=1,inplace=True)\n",
    "ASHPout=pd.read_csv(root+inde+'/'+nodes+'_HPOut1.csv')\n",
    "ASHPout.drop(['Unnamed: 0'], axis=1,inplace=True)\n",
    "\n",
    "GSHPin=pd.read_csv(root+inde+'/'+nodes+'_HPIn0.csv')\n",
    "GSHPin.drop(['Unnamed: 0'], axis=1,inplace=True)\n",
    "ASHPin=pd.read_csv(root+inde+'/'+nodes+'_HPIn1.csv')\n",
    "ASHPin.drop(['Unnamed: 0'], axis=1,inplace=True)\n",
    "\n",
    "ElecOut=pd.read_csv(root+inde+'/'+nodes+'_ElecOut.csv')\n",
    "ElecOut.drop(['Unnamed: 0'], axis=1,inplace=True)\n",
    "\n",
    "HeatDump=pd.read_csv(root+inde+'/'+nodes+'_HeatDump.csv')\n",
    "HeatDump.drop(['Unnamed: 0'], axis=1,inplace=True)\n",
    "ElecIn=pd.read_csv(root+inde+'/'+nodes+'_ElecIn.csv')\n",
    "ElecIn.drop(['Unnamed: 0'], axis=1,inplace=True)\n",
    "OilOut=pd.read_csv(root+inde+'/'+nodes+'_BoilOut1.csv')\n",
    "OilOut.drop(['Unnamed: 0'], axis=1,inplace=True)\n",
    "extra=(NGOut.sum().sum()+OilOut.sum().sum()+ElecIn.sum().sum()+(GSHPout.sum().sum()-GSHPin.sum().sum())+(ASHPout.sum().sum()-ASHPin.sum().sum())+(PVout.sum().sum()-ElecOut.sum().sum())+(STout.sum().sum()-HeatDump.sum().sum()))-(HeatDemand+ElecDemand)\n",
    "Data_frames[inde].loc[objective,'Natural gas']=NGOut.sum().sum()\n",
    "Data_frames[inde].loc[objective,'Oil']=OilOut.sum().sum()\n",
    "Data_frames[inde].loc[objective,'Electricity']=ElecIn.sum().sum()\n",
    "Data_frames[inde].loc[objective,'HP']=(GSHPout.sum().sum()-GSHPin.sum().sum())+(ASHPout.sum().sum()-ASHPin.sum().sum())\n",
    "Data_frames[inde].loc[objective,'PV']=PVout.sum().sum()-ElecOut.sum().sum()\n",
    "Data_frames[inde].loc[objective,'ST']=STout.sum().sum()-HeatDump.sum().sum()-extra\n",
    "SelfSuff.loc[objective,inde]=((HeatDemand+ElecDemand)-(NGOut.sum().sum()+OilOut.sum().sum()+ElecIn.sum().sum()))/(HeatDemand+ElecDemand)\n",
    "HeatDump.sum().sum()"
   ]
  },
  {
   "cell_type": "code",
   "execution_count": 88,
   "metadata": {
    "collapsed": false
   },
   "outputs": [],
   "source": [
    "Data_frames['Village'].loc[3,'ST']=0"
   ]
  },
  {
   "cell_type": "code",
   "execution_count": 90,
   "metadata": {
    "collapsed": false
   },
   "outputs": [
    {
     "data": {
      "image/png": "[encoded data removed]",
      "text/plain": [
       "<Figure size 720x288 with 1 Axes>"
      ]
     },
     "metadata": {},
     "output_type": "display_data"
    }
   ],
   "source": [
    "plt.style.use('seaborn-whitegrid')\n",
    "ax=SelfSuff.plot(kind='line',marker='.',markersize=14,fontsize=12,figsize=(10,4))\n",
    "ax.set_xlabel('Objective',fontsize=12)\n",
    "ax.set_ylabel('% Self Sufficient',fontsize=12)\n",
    "ax.set_ylim(0,0.8)\n",
    "plt.legend(fontsize=12)\n",
    "ax.xaxis.set_ticks([1,2,3,4,5])\n",
    "plt.savefig(r'/Users/portia_murray/Dropbox/PhD/ICAE data/Pselfsuff.png',bbox_inches='tight',dpi=300)"
   ]
  },
  {
   "cell_type": "code",
   "execution_count": 91,
   "metadata": {
    "collapsed": false
   },
   "outputs": [
    {
     "data": {
      "text/html": [
       "<div>\n",
       "<style>\n",
       "    .dataframe thead tr:only-child th {\n",
       "        text-align: right;\n",
       "    }\n",
       "\n",
       "    .dataframe thead th {\n",
       "        text-align: left;\n",
       "    }\n",
       "\n",
       "    .dataframe tbody tr th {\n",
       "        vertical-align: top;\n",
       "    }\n",
       "</style>\n",
       "<table border=\"1\" class=\"dataframe\">\n",
       "  <thead>\n",
       "    <tr style=\"text-align: right;\">\n",
       "      <th></th>\n",
       "      <th>Electricity</th>\n",
       "      <th>Natural gas</th>\n",
       "      <th>Oil</th>\n",
       "      <th>HP</th>\n",
       "      <th>PV</th>\n",
       "      <th>ST</th>\n",
       "    </tr>\n",
       "  </thead>\n",
       "  <tbody>\n",
       "    <tr>\n",
       "      <th>1</th>\n",
       "      <td>8.18313</td>\n",
       "      <td>0</td>\n",
       "      <td>17.7543</td>\n",
       "      <td>0.01089</td>\n",
       "      <td>1.845</td>\n",
       "      <td>1.01583e-19</td>\n",
       "    </tr>\n",
       "    <tr>\n",
       "      <th>2</th>\n",
       "      <td>9.44625</td>\n",
       "      <td>2.98652e-15</td>\n",
       "      <td>14.291</td>\n",
       "      <td>2.19723</td>\n",
       "      <td>1.85881</td>\n",
       "      <td>5.531e-19</td>\n",
       "    </tr>\n",
       "    <tr>\n",
       "      <th>3</th>\n",
       "      <td>10.9692</td>\n",
       "      <td>0</td>\n",
       "      <td>10.0469</td>\n",
       "      <td>4.90949</td>\n",
       "      <td>1.86765</td>\n",
       "      <td>0</td>\n",
       "    </tr>\n",
       "    <tr>\n",
       "      <th>4</th>\n",
       "      <td>12.3589</td>\n",
       "      <td>0</td>\n",
       "      <td>5.84727</td>\n",
       "      <td>7.38763</td>\n",
       "      <td>2.19952</td>\n",
       "      <td>2.94018e-18</td>\n",
       "    </tr>\n",
       "    <tr>\n",
       "      <th>5</th>\n",
       "      <td>14.2719</td>\n",
       "      <td>1.88295</td>\n",
       "      <td>0</td>\n",
       "      <td>5.99171</td>\n",
       "      <td>0.707094</td>\n",
       "      <td>4.93964</td>\n",
       "    </tr>\n",
       "  </tbody>\n",
       "</table>\n",
       "</div>"
      ],
      "text/plain": [
       "  Electricity  Natural gas      Oil       HP        PV           ST\n",
       "1     8.18313            0  17.7543  0.01089     1.845  1.01583e-19\n",
       "2     9.44625  2.98652e-15   14.291  2.19723   1.85881    5.531e-19\n",
       "3     10.9692            0  10.0469  4.90949   1.86765            0\n",
       "4     12.3589            0  5.84727  7.38763   2.19952  2.94018e-18\n",
       "5     14.2719      1.88295        0  5.99171  0.707094      4.93964"
      ]
     },
     "execution_count": 91,
     "metadata": {},
     "output_type": "execute_result"
    }
   ],
   "source": [
    "Data_frames['Community']#.loc[1,'NG']=0"
   ]
  },
  {
   "cell_type": "code",
   "execution_count": 90,
   "metadata": {
    "collapsed": false
   },
   "outputs": [],
   "source": [
    "Data_frames['District']=Data_frames['District']/1E6"
   ]
  },
  {
   "cell_type": "code",
   "execution_count": 102,
   "metadata": {
    "collapsed": false
   },
   "outputs": [
    {
     "data": {
      "image/png": "[encoded data removed]",
      "text/plain": [
       "<Figure size 576x432 with 5 Axes>"
      ]
     },
     "metadata": {},
     "output_type": "display_data"
    }
   ],
   "source": [
    "plt.style.use('seaborn-ticks')\n",
    "fig = plt.figure(figsize=(8,6))\n",
    "clr=['blue','purple','grey','red','yellow','orange']\n",
    "ax = fig.add_subplot(2, 3, 1)\n",
    "ax=Data_frames['Building'].plot(kind='area',color=clr,ax=ax,legend=None)\n",
    "ax.set_xticks([1,2,3,4,5])\n",
    "ax.set_ylabel('Energy Demand (GWh)',fontsize=12)\n",
    "ax.set_title('Individual buildings')\n",
    "#ax.title('Individual buildings')\n",
    "\n",
    "ax = fig.add_subplot(2, 3, 2)\n",
    "ax=Data_frames['Neigh'].plot(kind='area',color=clr,ax=ax,legend=None)\n",
    "ax.set_xticks([1,2,3,4,5])\n",
    "ax.yaxis.set_visible(False)\n",
    "ax.set_title('Neighbourhood')\n",
    "#ax.set_ylabel('Energy Demand (GWh)')\n",
    "#ax.title('Individual buildings')\n",
    "\n",
    "ax = fig.add_subplot(2, 3, 3)\n",
    "ax=Data_frames['Community'].plot(kind='area',color=clr,ax=ax,legend=None)\n",
    "ax.set_xticks([1,2,3,4,5])\n",
    "ax.yaxis.set_visible(False)\n",
    "ax.set_title('Community')\n",
    "#ax.set_xlabel('Pareto optimal solutions',fontsize=12)\n",
    "#ax.set_ylabel('Energy Demand (GWh)')\n",
    "#ax.title('Individual buildings')\n",
    "\n",
    "ax = fig.add_subplot(2, 3, 4)\n",
    "ax=Data_frames['District'].plot(kind='area',color=clr,ax=ax,legend=None)\n",
    "ax.set_xticks([1,2,3,4,5])\n",
    "#ax.yaxis.set_visible(False)\n",
    "ax.set_title('District')\n",
    "ax.set_ylabel('Energy Demand (GWh)',fontsize=12)\n",
    "\n",
    "#ax.set_ylabel('Energy Demand (GWh)')\n",
    "#ax.title('Individual buildings')\n",
    "\n",
    "ax = fig.add_subplot(2, 3, 5)\n",
    "ax=Data_frames['Village'].plot(kind='area',color=clr,ax=ax)\n",
    "ax.legend(loc=[1.01,0.2])\n",
    "ax.set_xticks([1,2,3,4,5])\n",
    "ax.yaxis.set_visible(False)\n",
    "ax.set_title('Village')\n",
    "#ax.set_ylabel('Energy Demand (GWh)')\n",
    "#ax.title('Individual buildings')\n",
    "ax.set_xlabel('Pareto optimal solutions',fontsize=12)\n",
    "plt.tight_layout()\n",
    "plt.savefig(r'/Users/portia_murray/Dropbox/PhD/ICAE data/selfself.png',bbox_inches='tight',dpi=300)"
   ]
  },
  {
   "cell_type": "code",
   "execution_count": 377,
   "metadata": {
    "collapsed": false
   },
   "outputs": [
    {
     "data": {
      "text/plain": [
       "<matplotlib.axes._subplots.AxesSubplot at 0x1166cb950>"
      ]
     },
     "execution_count": 377,
     "metadata": {},
     "output_type": "execute_result"
    },
    {
     "data": {
      "image/png": "[encoded data removed]",
      "text/plain": [
       "<matplotlib.figure.Figure at 0x112905490>"
      ]
     },
     "metadata": {},
     "output_type": "display_data"
    }
   ],
   "source": [
    "Data_frames['District'].plot(kind='bar',stacked=True)"
   ]
  },
  {
   "cell_type": "code",
   "execution_count": 379,
   "metadata": {
    "collapsed": false
   },
   "outputs": [
    {
     "data": {
      "text/plain": [
       "<matplotlib.axes._subplots.AxesSubplot at 0x1174cddd0>"
      ]
     },
     "execution_count": 379,
     "metadata": {},
     "output_type": "execute_result"
    },
    {
     "data": {
      "image/png": "[encoded data removed]",
      "text/plain": [
       "<matplotlib.figure.Figure at 0x115dd6e50>"
      ]
     },
     "metadata": {},
     "output_type": "display_data"
    }
   ],
   "source": [
    "Data_frames['Village'].plot(kind='bar',stacked=True)"
   ]
  },
  {
   "cell_type": "code",
   "execution_count": 466,
   "metadata": {
    "collapsed": false
   },
   "outputs": [
    {
     "data": {
      "text/plain": [
       "1    2.668309e+07\n",
       "2             NaN\n",
       "3    2.779329e+07\n",
       "4             NaN\n",
       "5    2.779329e+07\n",
       "dtype: float64"
      ]
     },
     "execution_count": 466,
     "metadata": {},
     "output_type": "execute_result"
    }
   ],
   "source": [
    "Data_frames['Building'].sum(axis=1)"
   ]
  },
  {
   "cell_type": "code",
   "execution_count": null,
   "metadata": {
    "collapsed": true
   },
   "outputs": [],
   "source": []
  }
 ],
 "metadata": {
  "kernelspec": {
   "display_name": "Python 2",
   "language": "python",
   "name": "python2"
  },
  "language_info": {
   "codemirror_mode": {
    "name": "ipython",
    "version": 2
   },
   "file_extension": ".py",
   "mimetype": "text/x-python",
   "name": "python",
   "nbconvert_exporter": "python",
   "pygments_lexer": "ipython2",
   "version": "2.7.11"
  }
 },
 "nbformat": 4,
 "nbformat_minor": 2
}
